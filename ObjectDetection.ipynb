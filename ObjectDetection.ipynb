{
  "nbformat": 4,
  "nbformat_minor": 0,
  "metadata": {
    "colab": {
      "name": "ObjectDetection.ipynb",
      "provenance": [],
      "authorship_tag": "ABX9TyPhBLKDZtbkUBnEaeGbTrLX",
      "include_colab_link": true
    },
    "kernelspec": {
      "name": "python3",
      "display_name": "Python 3"
    },
    "accelerator": "GPU"
  },
  "cells": [
    {
      "cell_type": "markdown",
      "metadata": {
        "id": "view-in-github",
        "colab_type": "text"
      },
      "source": [
        "<a href=\"https://colab.research.google.com/github/Basit-Imam/DeepLearning/blob/master/ObjectDetection.ipynb\" target=\"_parent\"><img src=\"https://colab.research.google.com/assets/colab-badge.svg\" alt=\"Open In Colab\"/></a>"
      ]
    },
    {
      "cell_type": "code",
      "metadata": {
        "id": "BQqQwZEB14GP",
        "colab_type": "code",
        "colab": {}
      },
      "source": [
        "import numpy as np\n",
        "import random\n",
        "import matplotlib.pyplot as plt\n",
        "\n",
        "import tensorflow as tf\n",
        "from tensorflow import keras\n",
        "from tensorflow.keras.models import Sequential\n",
        "from tensorflow.keras.layers import Dense, Dropout, Flatten, Activation\n",
        "from tensorflow.keras.optimizers import Adam\n",
        "from tensorflow.keras.losses import SparseCategoricalCrossentropy\n",
        "from tensorflow.keras.callbacks import EarlyStopping"
      ],
      "execution_count": 1,
      "outputs": []
    },
    {
      "cell_type": "code",
      "metadata": {
        "id": "9Q_EhI2_17Bw",
        "colab_type": "code",
        "colab": {
          "base_uri": "https://localhost:8080/",
          "height": 51
        },
        "outputId": "6126c67b-dfd1-47a7-fddf-0b6e4847f1a3"
      },
      "source": [
        "from keras.datasets.cifar10 import load_data\n",
        "(X_train, y_train), (_, __) = load_data()"
      ],
      "execution_count": 2,
      "outputs": [
        {
          "output_type": "stream",
          "text": [
            "Downloading data from https://www.cs.toronto.edu/~kriz/cifar-10-python.tar.gz\n",
            "170500096/170498071 [==============================] - 4s 0us/step\n"
          ],
          "name": "stdout"
        }
      ]
    },
    {
      "cell_type": "code",
      "metadata": {
        "id": "E0RJ-rfB18ri",
        "colab_type": "code",
        "colab": {
          "base_uri": "https://localhost:8080/",
          "height": 34
        },
        "outputId": "2e020c70-1b4d-4b0b-ef1c-8b474ddafd0b"
      },
      "source": [
        "len(X_train)"
      ],
      "execution_count": 3,
      "outputs": [
        {
          "output_type": "execute_result",
          "data": {
            "text/plain": [
              "50000"
            ]
          },
          "metadata": {
            "tags": []
          },
          "execution_count": 3
        }
      ]
    },
    {
      "cell_type": "code",
      "metadata": {
        "id": "JEagGuq01-0d",
        "colab_type": "code",
        "colab": {
          "base_uri": "https://localhost:8080/",
          "height": 34
        },
        "outputId": "80d021db-6ed2-45b0-a3a0-c339726458a9"
      },
      "source": [
        "X_train[0].shape"
      ],
      "execution_count": 4,
      "outputs": [
        {
          "output_type": "execute_result",
          "data": {
            "text/plain": [
              "(32, 32, 3)"
            ]
          },
          "metadata": {
            "tags": []
          },
          "execution_count": 4
        }
      ]
    },
    {
      "cell_type": "code",
      "metadata": {
        "id": "5vAW3llh2AUV",
        "colab_type": "code",
        "colab": {
          "base_uri": "https://localhost:8080/",
          "height": 266
        },
        "outputId": "7577f49a-95c4-4b7a-e51c-83b28fca33c6"
      },
      "source": [
        "#check the range of pixel values\n",
        "plt.figure()\n",
        "plt.imshow(X_train[1])\n",
        "plt.colorbar()\n",
        "plt.grid(False)"
      ],
      "execution_count": 5,
      "outputs": [
        {
          "output_type": "display_data",
          "data": {
            "image/png": "[encoded data removed]",
            "text/plain": [
              "<Figure size 432x288 with 2 Axes>"
            ]
          },
          "metadata": {
            "tags": [],
            "needs_background": "light"
          }
        }
      ]
    },
    {
      "cell_type": "code",
      "metadata": {
        "id": "Lf8rxswW2Ch7",
        "colab_type": "code",
        "colab": {}
      },
      "source": [
        "# class_names = ['Ship','Aeroplane','Automobile','Bird','Cat','Deer','Dog','Frog','Horse','Truck']"
      ],
      "execution_count": 6,
      "outputs": []
    },
    {
      "cell_type": "code",
      "metadata": {
        "id": "FYOsxOIe2FVm",
        "colab_type": "code",
        "colab": {}
      },
      "source": [
        "import pandas as pd\n",
        "X_test = pd.read_csv(\"https://raw.githubusercontent.com/dphi-official/Datasets/master/cifar_image_flattened_pixels.csv\")"
      ],
      "execution_count": 7,
      "outputs": []
    },
    {
      "cell_type": "code",
      "metadata": {
        "id": "vsX2O3bW2Gr3",
        "colab_type": "code",
        "colab": {
          "base_uri": "https://localhost:8080/",
          "height": 253
        },
        "outputId": "cd116e2f-648e-4f07-888d-c1cd2629ad1b"
      },
      "source": [
        "X_test.head()"
      ],
      "execution_count": 8,
      "outputs": [
        {
          "output_type": "execute_result",
          "data": {
            "text/html": [
              "<div>\n",
              "<style scoped>\n",
              "    .dataframe tbody tr th:only-of-type {\n",
              "        vertical-align: middle;\n",
              "    }\n",
              "\n",
              "    .dataframe tbody tr th {\n",
              "        vertical-align: top;\n",
              "    }\n",
              "\n",
              "    .dataframe thead th {\n",
              "        text-align: right;\n",
              "    }\n",
              "</style>\n",
              "<table border=\"1\" class=\"dataframe\">\n",
              "  <thead>\n",
              "    <tr style=\"text-align: right;\">\n",
              "      <th></th>\n",
              "      <th>0</th>\n",
              "      <th>1</th>\n",
              "      <th>2</th>\n",
              "      <th>3</th>\n",
              "      <th>4</th>\n",
              "      <th>5</th>\n",
              "      <th>6</th>\n",
              "      <th>7</th>\n",
              "      <th>8</th>\n",
              "      <th>9</th>\n",
              "      <th>10</th>\n",
              "      <th>11</th>\n",
              "      <th>12</th>\n",
              "      <th>13</th>\n",
              "      <th>14</th>\n",
              "      <th>15</th>\n",
              "      <th>16</th>\n",
              "      <th>17</th>\n",
              "      <th>18</th>\n",
              "      <th>19</th>\n",
              "      <th>20</th>\n",
              "      <th>21</th>\n",
              "      <th>22</th>\n",
              "      <th>23</th>\n",
              "      <th>24</th>\n",
              "      <th>25</th>\n",
              "      <th>26</th>\n",
              "      <th>27</th>\n",
              "      <th>28</th>\n",
              "      <th>29</th>\n",
              "      <th>30</th>\n",
              "      <th>31</th>\n",
              "      <th>32</th>\n",
              "      <th>33</th>\n",
              "      <th>34</th>\n",
              "      <th>35</th>\n",
              "      <th>36</th>\n",
              "      <th>37</th>\n",
              "      <th>38</th>\n",
              "      <th>39</th>\n",
              "      <th>...</th>\n",
              "      <th>3032</th>\n",
              "      <th>3033</th>\n",
              "      <th>3034</th>\n",
              "      <th>3035</th>\n",
              "      <th>3036</th>\n",
              "      <th>3037</th>\n",
              "      <th>3038</th>\n",
              "      <th>3039</th>\n",
              "      <th>3040</th>\n",
              "      <th>3041</th>\n",
              "      <th>3042</th>\n",
              "      <th>3043</th>\n",
              "      <th>3044</th>\n",
              "      <th>3045</th>\n",
              "      <th>3046</th>\n",
              "      <th>3047</th>\n",
              "      <th>3048</th>\n",
              "      <th>3049</th>\n",
              "      <th>3050</th>\n",
              "      <th>3051</th>\n",
              "      <th>3052</th>\n",
              "      <th>3053</th>\n",
              "      <th>3054</th>\n",
              "      <th>3055</th>\n",
              "      <th>3056</th>\n",
              "      <th>3057</th>\n",
              "      <th>3058</th>\n",
              "      <th>3059</th>\n",
              "      <th>3060</th>\n",
              "      <th>3061</th>\n",
              "      <th>3062</th>\n",
              "      <th>3063</th>\n",
              "      <th>3064</th>\n",
              "      <th>3065</th>\n",
              "      <th>3066</th>\n",
              "      <th>3067</th>\n",
              "      <th>3068</th>\n",
              "      <th>3069</th>\n",
              "      <th>3070</th>\n",
              "      <th>3071</th>\n",
              "    </tr>\n",
              "  </thead>\n",
              "  <tbody>\n",
              "    <tr>\n",
              "      <th>0</th>\n",
              "      <td>98</td>\n",
              "      <td>105</td>\n",
              "      <td>108</td>\n",
              "      <td>92</td>\n",
              "      <td>101</td>\n",
              "      <td>106</td>\n",
              "      <td>91</td>\n",
              "      <td>101</td>\n",
              "      <td>107</td>\n",
              "      <td>93</td>\n",
              "      <td>104</td>\n",
              "      <td>108</td>\n",
              "      <td>89</td>\n",
              "      <td>100</td>\n",
              "      <td>104</td>\n",
              "      <td>88</td>\n",
              "      <td>99</td>\n",
              "      <td>103</td>\n",
              "      <td>90</td>\n",
              "      <td>101</td>\n",
              "      <td>106</td>\n",
              "      <td>95</td>\n",
              "      <td>105</td>\n",
              "      <td>110</td>\n",
              "      <td>99</td>\n",
              "      <td>108</td>\n",
              "      <td>110</td>\n",
              "      <td>109</td>\n",
              "      <td>117</td>\n",
              "      <td>116</td>\n",
              "      <td>119</td>\n",
              "      <td>125</td>\n",
              "      <td>123</td>\n",
              "      <td>125</td>\n",
              "      <td>130</td>\n",
              "      <td>128</td>\n",
              "      <td>134</td>\n",
              "      <td>140</td>\n",
              "      <td>138</td>\n",
              "      <td>140</td>\n",
              "      <td>...</td>\n",
              "      <td>184</td>\n",
              "      <td>178</td>\n",
              "      <td>177</td>\n",
              "      <td>172</td>\n",
              "      <td>190</td>\n",
              "      <td>188</td>\n",
              "      <td>184</td>\n",
              "      <td>220</td>\n",
              "      <td>219</td>\n",
              "      <td>214</td>\n",
              "      <td>195</td>\n",
              "      <td>193</td>\n",
              "      <td>187</td>\n",
              "      <td>176</td>\n",
              "      <td>174</td>\n",
              "      <td>169</td>\n",
              "      <td>175</td>\n",
              "      <td>173</td>\n",
              "      <td>168</td>\n",
              "      <td>192</td>\n",
              "      <td>189</td>\n",
              "      <td>185</td>\n",
              "      <td>185</td>\n",
              "      <td>182</td>\n",
              "      <td>178</td>\n",
              "      <td>168</td>\n",
              "      <td>165</td>\n",
              "      <td>161</td>\n",
              "      <td>178</td>\n",
              "      <td>176</td>\n",
              "      <td>171</td>\n",
              "      <td>183</td>\n",
              "      <td>182</td>\n",
              "      <td>176</td>\n",
              "      <td>175</td>\n",
              "      <td>175</td>\n",
              "      <td>168</td>\n",
              "      <td>181</td>\n",
              "      <td>181</td>\n",
              "      <td>175</td>\n",
              "    </tr>\n",
              "    <tr>\n",
              "      <th>1</th>\n",
              "      <td>101</td>\n",
              "      <td>108</td>\n",
              "      <td>101</td>\n",
              "      <td>101</td>\n",
              "      <td>108</td>\n",
              "      <td>101</td>\n",
              "      <td>102</td>\n",
              "      <td>109</td>\n",
              "      <td>102</td>\n",
              "      <td>103</td>\n",
              "      <td>110</td>\n",
              "      <td>103</td>\n",
              "      <td>105</td>\n",
              "      <td>112</td>\n",
              "      <td>104</td>\n",
              "      <td>105</td>\n",
              "      <td>114</td>\n",
              "      <td>109</td>\n",
              "      <td>105</td>\n",
              "      <td>116</td>\n",
              "      <td>112</td>\n",
              "      <td>106</td>\n",
              "      <td>115</td>\n",
              "      <td>110</td>\n",
              "      <td>108</td>\n",
              "      <td>115</td>\n",
              "      <td>108</td>\n",
              "      <td>107</td>\n",
              "      <td>115</td>\n",
              "      <td>107</td>\n",
              "      <td>104</td>\n",
              "      <td>115</td>\n",
              "      <td>106</td>\n",
              "      <td>104</td>\n",
              "      <td>116</td>\n",
              "      <td>108</td>\n",
              "      <td>108</td>\n",
              "      <td>119</td>\n",
              "      <td>115</td>\n",
              "      <td>108</td>\n",
              "      <td>...</td>\n",
              "      <td>149</td>\n",
              "      <td>153</td>\n",
              "      <td>159</td>\n",
              "      <td>164</td>\n",
              "      <td>132</td>\n",
              "      <td>140</td>\n",
              "      <td>142</td>\n",
              "      <td>134</td>\n",
              "      <td>144</td>\n",
              "      <td>145</td>\n",
              "      <td>112</td>\n",
              "      <td>119</td>\n",
              "      <td>118</td>\n",
              "      <td>108</td>\n",
              "      <td>115</td>\n",
              "      <td>111</td>\n",
              "      <td>114</td>\n",
              "      <td>124</td>\n",
              "      <td>122</td>\n",
              "      <td>106</td>\n",
              "      <td>118</td>\n",
              "      <td>116</td>\n",
              "      <td>101</td>\n",
              "      <td>113</td>\n",
              "      <td>108</td>\n",
              "      <td>100</td>\n",
              "      <td>111</td>\n",
              "      <td>102</td>\n",
              "      <td>99</td>\n",
              "      <td>110</td>\n",
              "      <td>103</td>\n",
              "      <td>100</td>\n",
              "      <td>109</td>\n",
              "      <td>104</td>\n",
              "      <td>100</td>\n",
              "      <td>109</td>\n",
              "      <td>103</td>\n",
              "      <td>100</td>\n",
              "      <td>109</td>\n",
              "      <td>102</td>\n",
              "    </tr>\n",
              "    <tr>\n",
              "      <th>2</th>\n",
              "      <td>85</td>\n",
              "      <td>115</td>\n",
              "      <td>27</td>\n",
              "      <td>63</td>\n",
              "      <td>90</td>\n",
              "      <td>25</td>\n",
              "      <td>37</td>\n",
              "      <td>66</td>\n",
              "      <td>15</td>\n",
              "      <td>69</td>\n",
              "      <td>93</td>\n",
              "      <td>49</td>\n",
              "      <td>40</td>\n",
              "      <td>52</td>\n",
              "      <td>36</td>\n",
              "      <td>18</td>\n",
              "      <td>24</td>\n",
              "      <td>18</td>\n",
              "      <td>31</td>\n",
              "      <td>38</td>\n",
              "      <td>27</td>\n",
              "      <td>79</td>\n",
              "      <td>91</td>\n",
              "      <td>61</td>\n",
              "      <td>104</td>\n",
              "      <td>117</td>\n",
              "      <td>78</td>\n",
              "      <td>72</td>\n",
              "      <td>84</td>\n",
              "      <td>52</td>\n",
              "      <td>68</td>\n",
              "      <td>79</td>\n",
              "      <td>52</td>\n",
              "      <td>122</td>\n",
              "      <td>131</td>\n",
              "      <td>85</td>\n",
              "      <td>104</td>\n",
              "      <td>113</td>\n",
              "      <td>67</td>\n",
              "      <td>77</td>\n",
              "      <td>...</td>\n",
              "      <td>139</td>\n",
              "      <td>174</td>\n",
              "      <td>188</td>\n",
              "      <td>139</td>\n",
              "      <td>182</td>\n",
              "      <td>198</td>\n",
              "      <td>150</td>\n",
              "      <td>179</td>\n",
              "      <td>194</td>\n",
              "      <td>147</td>\n",
              "      <td>175</td>\n",
              "      <td>186</td>\n",
              "      <td>142</td>\n",
              "      <td>187</td>\n",
              "      <td>195</td>\n",
              "      <td>158</td>\n",
              "      <td>176</td>\n",
              "      <td>191</td>\n",
              "      <td>142</td>\n",
              "      <td>169</td>\n",
              "      <td>190</td>\n",
              "      <td>132</td>\n",
              "      <td>177</td>\n",
              "      <td>193</td>\n",
              "      <td>144</td>\n",
              "      <td>180</td>\n",
              "      <td>189</td>\n",
              "      <td>147</td>\n",
              "      <td>175</td>\n",
              "      <td>190</td>\n",
              "      <td>141</td>\n",
              "      <td>172</td>\n",
              "      <td>193</td>\n",
              "      <td>136</td>\n",
              "      <td>173</td>\n",
              "      <td>192</td>\n",
              "      <td>138</td>\n",
              "      <td>179</td>\n",
              "      <td>192</td>\n",
              "      <td>149</td>\n",
              "    </tr>\n",
              "    <tr>\n",
              "      <th>3</th>\n",
              "      <td>213</td>\n",
              "      <td>213</td>\n",
              "      <td>214</td>\n",
              "      <td>215</td>\n",
              "      <td>214</td>\n",
              "      <td>218</td>\n",
              "      <td>220</td>\n",
              "      <td>218</td>\n",
              "      <td>226</td>\n",
              "      <td>223</td>\n",
              "      <td>221</td>\n",
              "      <td>233</td>\n",
              "      <td>226</td>\n",
              "      <td>225</td>\n",
              "      <td>231</td>\n",
              "      <td>225</td>\n",
              "      <td>226</td>\n",
              "      <td>223</td>\n",
              "      <td>223</td>\n",
              "      <td>223</td>\n",
              "      <td>223</td>\n",
              "      <td>227</td>\n",
              "      <td>226</td>\n",
              "      <td>231</td>\n",
              "      <td>229</td>\n",
              "      <td>228</td>\n",
              "      <td>236</td>\n",
              "      <td>229</td>\n",
              "      <td>228</td>\n",
              "      <td>236</td>\n",
              "      <td>230</td>\n",
              "      <td>229</td>\n",
              "      <td>236</td>\n",
              "      <td>228</td>\n",
              "      <td>227</td>\n",
              "      <td>235</td>\n",
              "      <td>227</td>\n",
              "      <td>226</td>\n",
              "      <td>234</td>\n",
              "      <td>225</td>\n",
              "      <td>...</td>\n",
              "      <td>20</td>\n",
              "      <td>111</td>\n",
              "      <td>41</td>\n",
              "      <td>28</td>\n",
              "      <td>111</td>\n",
              "      <td>63</td>\n",
              "      <td>60</td>\n",
              "      <td>120</td>\n",
              "      <td>92</td>\n",
              "      <td>98</td>\n",
              "      <td>138</td>\n",
              "      <td>117</td>\n",
              "      <td>129</td>\n",
              "      <td>153</td>\n",
              "      <td>140</td>\n",
              "      <td>158</td>\n",
              "      <td>172</td>\n",
              "      <td>161</td>\n",
              "      <td>187</td>\n",
              "      <td>188</td>\n",
              "      <td>174</td>\n",
              "      <td>205</td>\n",
              "      <td>195</td>\n",
              "      <td>182</td>\n",
              "      <td>212</td>\n",
              "      <td>199</td>\n",
              "      <td>185</td>\n",
              "      <td>216</td>\n",
              "      <td>197</td>\n",
              "      <td>186</td>\n",
              "      <td>216</td>\n",
              "      <td>193</td>\n",
              "      <td>194</td>\n",
              "      <td>209</td>\n",
              "      <td>201</td>\n",
              "      <td>204</td>\n",
              "      <td>216</td>\n",
              "      <td>203</td>\n",
              "      <td>201</td>\n",
              "      <td>237</td>\n",
              "    </tr>\n",
              "    <tr>\n",
              "      <th>4</th>\n",
              "      <td>41</td>\n",
              "      <td>74</td>\n",
              "      <td>144</td>\n",
              "      <td>41</td>\n",
              "      <td>75</td>\n",
              "      <td>139</td>\n",
              "      <td>41</td>\n",
              "      <td>75</td>\n",
              "      <td>139</td>\n",
              "      <td>41</td>\n",
              "      <td>74</td>\n",
              "      <td>144</td>\n",
              "      <td>39</td>\n",
              "      <td>76</td>\n",
              "      <td>140</td>\n",
              "      <td>37</td>\n",
              "      <td>79</td>\n",
              "      <td>130</td>\n",
              "      <td>38</td>\n",
              "      <td>77</td>\n",
              "      <td>135</td>\n",
              "      <td>40</td>\n",
              "      <td>75</td>\n",
              "      <td>142</td>\n",
              "      <td>43</td>\n",
              "      <td>72</td>\n",
              "      <td>145</td>\n",
              "      <td>47</td>\n",
              "      <td>71</td>\n",
              "      <td>146</td>\n",
              "      <td>47</td>\n",
              "      <td>73</td>\n",
              "      <td>140</td>\n",
              "      <td>43</td>\n",
              "      <td>75</td>\n",
              "      <td>140</td>\n",
              "      <td>39</td>\n",
              "      <td>77</td>\n",
              "      <td>143</td>\n",
              "      <td>37</td>\n",
              "      <td>...</td>\n",
              "      <td>149</td>\n",
              "      <td>42</td>\n",
              "      <td>71</td>\n",
              "      <td>135</td>\n",
              "      <td>43</td>\n",
              "      <td>72</td>\n",
              "      <td>125</td>\n",
              "      <td>42</td>\n",
              "      <td>72</td>\n",
              "      <td>122</td>\n",
              "      <td>51</td>\n",
              "      <td>72</td>\n",
              "      <td>117</td>\n",
              "      <td>64</td>\n",
              "      <td>70</td>\n",
              "      <td>109</td>\n",
              "      <td>65</td>\n",
              "      <td>72</td>\n",
              "      <td>99</td>\n",
              "      <td>53</td>\n",
              "      <td>76</td>\n",
              "      <td>113</td>\n",
              "      <td>35</td>\n",
              "      <td>75</td>\n",
              "      <td>136</td>\n",
              "      <td>30</td>\n",
              "      <td>81</td>\n",
              "      <td>140</td>\n",
              "      <td>34</td>\n",
              "      <td>79</td>\n",
              "      <td>133</td>\n",
              "      <td>41</td>\n",
              "      <td>77</td>\n",
              "      <td>130</td>\n",
              "      <td>44</td>\n",
              "      <td>75</td>\n",
              "      <td>133</td>\n",
              "      <td>42</td>\n",
              "      <td>73</td>\n",
              "      <td>144</td>\n",
              "    </tr>\n",
              "  </tbody>\n",
              "</table>\n",
              "<p>5 rows × 3072 columns</p>\n",
              "</div>"
            ],
            "text/plain": [
              "     0    1    2    3    4    5    6  ...  3065  3066  3067  3068  3069  3070  3071\n",
              "0   98  105  108   92  101  106   91  ...   176   175   175   168   181   181   175\n",
              "1  101  108  101  101  108  101  102  ...   104   100   109   103   100   109   102\n",
              "2   85  115   27   63   90   25   37  ...   136   173   192   138   179   192   149\n",
              "3  213  213  214  215  214  218  220  ...   209   201   204   216   203   201   237\n",
              "4   41   74  144   41   75  139   41  ...   130    44    75   133    42    73   144\n",
              "\n",
              "[5 rows x 3072 columns]"
            ]
          },
          "metadata": {
            "tags": []
          },
          "execution_count": 8
        }
      ]
    },
    {
      "cell_type": "code",
      "metadata": {
        "id": "BRpw5T3E2ICM",
        "colab_type": "code",
        "colab": {}
      },
      "source": [
        "#Normalizing the pixel values\n",
        "X_train = X_train / 255.0\n",
        "X_test = X_test / 255.0"
      ],
      "execution_count": 9,
      "outputs": []
    },
    {
      "cell_type": "code",
      "metadata": {
        "id": "URCjCr34BGu1",
        "colab_type": "code",
        "colab": {}
      },
      "source": [
        "X_test = X_test.to_numpy()"
      ],
      "execution_count": 10,
      "outputs": []
    },
    {
      "cell_type": "code",
      "metadata": {
        "id": "KldQH-CC2bGK",
        "colab_type": "code",
        "colab": {
          "base_uri": "https://localhost:8080/",
          "height": 850
        },
        "outputId": "b7efdca1-972f-4ad3-9ee6-b8ed5c22900a"
      },
      "source": [
        "X_train[0]"
      ],
      "execution_count": 11,
      "outputs": [
        {
          "output_type": "execute_result",
          "data": {
            "text/plain": [
              "array([[[0.23137255, 0.24313725, 0.24705882],\n",
              "        [0.16862745, 0.18039216, 0.17647059],\n",
              "        [0.19607843, 0.18823529, 0.16862745],\n",
              "        ...,\n",
              "        [0.61960784, 0.51764706, 0.42352941],\n",
              "        [0.59607843, 0.49019608, 0.4       ],\n",
              "        [0.58039216, 0.48627451, 0.40392157]],\n",
              "\n",
              "       [[0.0627451 , 0.07843137, 0.07843137],\n",
              "        [0.        , 0.        , 0.        ],\n",
              "        [0.07058824, 0.03137255, 0.        ],\n",
              "        ...,\n",
              "        [0.48235294, 0.34509804, 0.21568627],\n",
              "        [0.46666667, 0.3254902 , 0.19607843],\n",
              "        [0.47843137, 0.34117647, 0.22352941]],\n",
              "\n",
              "       [[0.09803922, 0.09411765, 0.08235294],\n",
              "        [0.0627451 , 0.02745098, 0.        ],\n",
              "        [0.19215686, 0.10588235, 0.03137255],\n",
              "        ...,\n",
              "        [0.4627451 , 0.32941176, 0.19607843],\n",
              "        [0.47058824, 0.32941176, 0.19607843],\n",
              "        [0.42745098, 0.28627451, 0.16470588]],\n",
              "\n",
              "       ...,\n",
              "\n",
              "       [[0.81568627, 0.66666667, 0.37647059],\n",
              "        [0.78823529, 0.6       , 0.13333333],\n",
              "        [0.77647059, 0.63137255, 0.10196078],\n",
              "        ...,\n",
              "        [0.62745098, 0.52156863, 0.2745098 ],\n",
              "        [0.21960784, 0.12156863, 0.02745098],\n",
              "        [0.20784314, 0.13333333, 0.07843137]],\n",
              "\n",
              "       [[0.70588235, 0.54509804, 0.37647059],\n",
              "        [0.67843137, 0.48235294, 0.16470588],\n",
              "        [0.72941176, 0.56470588, 0.11764706],\n",
              "        ...,\n",
              "        [0.72156863, 0.58039216, 0.36862745],\n",
              "        [0.38039216, 0.24313725, 0.13333333],\n",
              "        [0.3254902 , 0.20784314, 0.13333333]],\n",
              "\n",
              "       [[0.69411765, 0.56470588, 0.45490196],\n",
              "        [0.65882353, 0.50588235, 0.36862745],\n",
              "        [0.70196078, 0.55686275, 0.34117647],\n",
              "        ...,\n",
              "        [0.84705882, 0.72156863, 0.54901961],\n",
              "        [0.59215686, 0.4627451 , 0.32941176],\n",
              "        [0.48235294, 0.36078431, 0.28235294]]])"
            ]
          },
          "metadata": {
            "tags": []
          },
          "execution_count": 11
        }
      ]
    },
    {
      "cell_type": "code",
      "metadata": {
        "id": "1IHVpVaV2dbS",
        "colab_type": "code",
        "colab": {}
      },
      "source": [
        "X_train = X_train.reshape(len(X_train), 32*32*3)"
      ],
      "execution_count": 12,
      "outputs": []
    },
    {
      "cell_type": "code",
      "metadata": {
        "id": "bYpejTM82zXV",
        "colab_type": "code",
        "colab": {
          "base_uri": "https://localhost:8080/",
          "height": 34
        },
        "outputId": "aa501e7a-df4b-498c-9f79-94fd30924382"
      },
      "source": [
        "X_train.shape"
      ],
      "execution_count": 13,
      "outputs": [
        {
          "output_type": "execute_result",
          "data": {
            "text/plain": [
              "(50000, 3072)"
            ]
          },
          "metadata": {
            "tags": []
          },
          "execution_count": 13
        }
      ]
    },
    {
      "cell_type": "code",
      "metadata": {
        "id": "ShdWBGDn26r2",
        "colab_type": "code",
        "colab": {
          "base_uri": "https://localhost:8080/",
          "height": 323
        },
        "outputId": "b74898f5-4f20-4ef5-be35-eb1b2687aa7e"
      },
      "source": [
        "# Defining the model\n",
        "model = Sequential()\n",
        "model.add(Dense(100, input_dim=3072))\n",
        "    \n",
        "#hidden layer with 512 neurons\n",
        "model.add(Dense(512, activation='relu'))\n",
        "model.add(Dense(256, activation='relu'))\n",
        "model.add(Dense(64, activation='relu'))\n",
        "#Output layer with 10 neurons\n",
        "model.add(Dense(10, activation='softmax'))\n",
        "\n",
        "model.summary()"
      ],
      "execution_count": 14,
      "outputs": [
        {
          "output_type": "stream",
          "text": [
            "Model: \"sequential\"\n",
            "_________________________________________________________________\n",
            "Layer (type)                 Output Shape              Param #   \n",
            "=================================================================\n",
            "dense (Dense)                (None, 100)               307300    \n",
            "_________________________________________________________________\n",
            "dense_1 (Dense)              (None, 512)               51712     \n",
            "_________________________________________________________________\n",
            "dense_2 (Dense)              (None, 256)               131328    \n",
            "_________________________________________________________________\n",
            "dense_3 (Dense)              (None, 64)                16448     \n",
            "_________________________________________________________________\n",
            "dense_4 (Dense)              (None, 10)                650       \n",
            "=================================================================\n",
            "Total params: 507,438\n",
            "Trainable params: 507,438\n",
            "Non-trainable params: 0\n",
            "_________________________________________________________________\n"
          ],
          "name": "stdout"
        }
      ]
    },
    {
      "cell_type": "code",
      "metadata": {
        "id": "W8AW3d563tke",
        "colab_type": "code",
        "colab": {
          "base_uri": "https://localhost:8080/",
          "height": 714
        },
        "outputId": "0c4f69f2-9425-4927-df4c-72c9271a0e81"
      },
      "source": [
        "# Compiling the model\n",
        "model.compile(optimizer='adam',\n",
        "              loss='sparse_categorical_crossentropy',\n",
        "              metrics=['accuracy'])\n",
        "\n",
        "# Fit the model\n",
        "model.fit(x=X_train, y=y_train,validation_split=0.2, batch_size= 128,epochs=20)"
      ],
      "execution_count": 15,
      "outputs": [
        {
          "output_type": "stream",
          "text": [
            "Epoch 1/20\n",
            "313/313 [==============================] - 1s 4ms/step - loss: 1.9072 - accuracy: 0.3023 - val_loss: 1.7816 - val_accuracy: 0.3428\n",
            "Epoch 2/20\n",
            "313/313 [==============================] - 1s 3ms/step - loss: 1.6809 - accuracy: 0.3965 - val_loss: 1.6822 - val_accuracy: 0.3981\n",
            "Epoch 3/20\n",
            "313/313 [==============================] - 1s 3ms/step - loss: 1.5785 - accuracy: 0.4324 - val_loss: 1.5823 - val_accuracy: 0.4370\n",
            "Epoch 4/20\n",
            "313/313 [==============================] - 1s 3ms/step - loss: 1.5209 - accuracy: 0.4550 - val_loss: 1.5688 - val_accuracy: 0.4496\n",
            "Epoch 5/20\n",
            "313/313 [==============================] - 1s 3ms/step - loss: 1.4736 - accuracy: 0.4728 - val_loss: 1.5218 - val_accuracy: 0.4635\n",
            "Epoch 6/20\n",
            "313/313 [==============================] - 1s 3ms/step - loss: 1.4221 - accuracy: 0.4911 - val_loss: 1.5469 - val_accuracy: 0.4478\n",
            "Epoch 7/20\n",
            "313/313 [==============================] - 1s 3ms/step - loss: 1.3853 - accuracy: 0.5045 - val_loss: 1.5211 - val_accuracy: 0.4606\n",
            "Epoch 8/20\n",
            "313/313 [==============================] - 1s 3ms/step - loss: 1.3467 - accuracy: 0.5181 - val_loss: 1.4954 - val_accuracy: 0.4776\n",
            "Epoch 9/20\n",
            "313/313 [==============================] - 1s 3ms/step - loss: 1.3057 - accuracy: 0.5330 - val_loss: 1.4535 - val_accuracy: 0.4922\n",
            "Epoch 10/20\n",
            "313/313 [==============================] - 1s 3ms/step - loss: 1.2680 - accuracy: 0.5449 - val_loss: 1.4882 - val_accuracy: 0.4798\n",
            "Epoch 11/20\n",
            "313/313 [==============================] - 1s 3ms/step - loss: 1.2396 - accuracy: 0.5548 - val_loss: 1.4471 - val_accuracy: 0.4983\n",
            "Epoch 12/20\n",
            "313/313 [==============================] - 1s 3ms/step - loss: 1.1963 - accuracy: 0.5710 - val_loss: 1.4944 - val_accuracy: 0.4937\n",
            "Epoch 13/20\n",
            "313/313 [==============================] - 1s 3ms/step - loss: 1.1701 - accuracy: 0.5807 - val_loss: 1.4550 - val_accuracy: 0.5021\n",
            "Epoch 14/20\n",
            "313/313 [==============================] - 1s 3ms/step - loss: 1.1153 - accuracy: 0.6004 - val_loss: 1.4677 - val_accuracy: 0.5051\n",
            "Epoch 15/20\n",
            "313/313 [==============================] - 1s 3ms/step - loss: 1.0854 - accuracy: 0.6108 - val_loss: 1.5042 - val_accuracy: 0.4974\n",
            "Epoch 16/20\n",
            "313/313 [==============================] - 1s 3ms/step - loss: 1.0502 - accuracy: 0.6231 - val_loss: 1.4843 - val_accuracy: 0.4979\n",
            "Epoch 17/20\n",
            "313/313 [==============================] - 1s 3ms/step - loss: 1.0154 - accuracy: 0.6361 - val_loss: 1.5077 - val_accuracy: 0.5063\n",
            "Epoch 18/20\n",
            "313/313 [==============================] - 1s 3ms/step - loss: 0.9718 - accuracy: 0.6500 - val_loss: 1.5321 - val_accuracy: 0.5058\n",
            "Epoch 19/20\n",
            "313/313 [==============================] - 1s 3ms/step - loss: 0.9309 - accuracy: 0.6662 - val_loss: 1.5554 - val_accuracy: 0.5066\n",
            "Epoch 20/20\n",
            "313/313 [==============================] - 1s 3ms/step - loss: 0.9072 - accuracy: 0.6729 - val_loss: 1.5891 - val_accuracy: 0.5023\n"
          ],
          "name": "stdout"
        },
        {
          "output_type": "execute_result",
          "data": {
            "text/plain": [
              "<tensorflow.python.keras.callbacks.History at 0x7f3665208588>"
            ]
          },
          "metadata": {
            "tags": []
          },
          "execution_count": 15
        }
      ]
    },
    {
      "cell_type": "code",
      "metadata": {
        "id": "RuyK1yxr85O_",
        "colab_type": "code",
        "colab": {}
      },
      "source": [
        ""
      ],
      "execution_count": 15,
      "outputs": []
    },
    {
      "cell_type": "code",
      "metadata": {
        "id": "wGIt6N3W9FHC",
        "colab_type": "code",
        "colab": {
          "base_uri": "https://localhost:8080/",
          "height": 34
        },
        "outputId": "c18d22b8-f4ee-4d8a-8c86-e3e120e75c5c"
      },
      "source": [
        "X_test.shape"
      ],
      "execution_count": 16,
      "outputs": [
        {
          "output_type": "execute_result",
          "data": {
            "text/plain": [
              "(2000, 3072)"
            ]
          },
          "metadata": {
            "tags": []
          },
          "execution_count": 16
        }
      ]
    },
    {
      "cell_type": "code",
      "metadata": {
        "id": "GUlebPvv3-0L",
        "colab_type": "code",
        "colab": {}
      },
      "source": [
        "y_pred = model.predict(X_test)"
      ],
      "execution_count": 17,
      "outputs": []
    },
    {
      "cell_type": "code",
      "metadata": {
        "id": "mizbIWT88xQ4",
        "colab_type": "code",
        "colab": {
          "base_uri": "https://localhost:8080/",
          "height": 68
        },
        "outputId": "e120f3cc-608f-4bc9-cc28-9c99e11f60e7"
      },
      "source": [
        "y_pred[0]"
      ],
      "execution_count": 18,
      "outputs": [
        {
          "output_type": "execute_result",
          "data": {
            "text/plain": [
              "array([0.01512315, 0.00225951, 0.07688177, 0.38683897, 0.03529644,\n",
              "       0.09455252, 0.2929142 , 0.05324   , 0.01011337, 0.03278003],\n",
              "      dtype=float32)"
            ]
          },
          "metadata": {
            "tags": []
          },
          "execution_count": 18
        }
      ]
    },
    {
      "cell_type": "code",
      "metadata": {
        "id": "xzKUwLRrNUK_",
        "colab_type": "code",
        "colab": {
          "base_uri": "https://localhost:8080/",
          "height": 34
        },
        "outputId": "c87c0fd1-18d7-4fb3-d7d8-757957e8f01b"
      },
      "source": [
        "np.argmax(y_pred[0])"
      ],
      "execution_count": 19,
      "outputs": [
        {
          "output_type": "execute_result",
          "data": {
            "text/plain": [
              "3"
            ]
          },
          "metadata": {
            "tags": []
          },
          "execution_count": 19
        }
      ]
    },
    {
      "cell_type": "code",
      "metadata": {
        "id": "slXMG3Qw_v16",
        "colab_type": "code",
        "colab": {}
      },
      "source": [
        "predictions = []\n",
        "for i in y_pred:\n",
        "  predictions.append(np.argmax(i))\n"
      ],
      "execution_count": 20,
      "outputs": []
    },
    {
      "cell_type": "code",
      "metadata": {
        "id": "ZPihfceED1PK",
        "colab_type": "code",
        "colab": {
          "base_uri": "https://localhost:8080/",
          "height": 34
        },
        "outputId": "12afbc27-49b2-4e91-aace-ee2d5e2ba87e"
      },
      "source": [
        "len(predictions)"
      ],
      "execution_count": 21,
      "outputs": [
        {
          "output_type": "execute_result",
          "data": {
            "text/plain": [
              "2000"
            ]
          },
          "metadata": {
            "tags": []
          },
          "execution_count": 21
        }
      ]
    },
    {
      "cell_type": "code",
      "metadata": {
        "id": "o7y6vUqtPH5f",
        "colab_type": "code",
        "colab": {}
      },
      "source": [
        "test_new = pd.read_csv(\"https://raw.githubusercontent.com/dphi-official/Datasets/master/cifar_image_flattened_pixels.csv\")"
      ],
      "execution_count": 22,
      "outputs": []
    },
    {
      "cell_type": "code",
      "metadata": {
        "id": "XRAAl3jYD27Q",
        "colab_type": "code",
        "colab": {
          "base_uri": "https://localhost:8080/",
          "height": 17
        },
        "outputId": "63792240-b482-4b52-dcc5-fa1b820036c2"
      },
      "source": [
        "res = pd.DataFrame(predictions) \n",
        "res.index = test_new.index \n",
        "res.columns = [\"prediction\"]\n",
        "\n",
        "# To download the csv file locally\n",
        "from google.colab import files\n",
        "res.to_csv('prediction_results.csv')         \n",
        "files.download('prediction_results.csv')"
      ],
      "execution_count": 23,
      "outputs": [
        {
          "output_type": "display_data",
          "data": {
            "application/javascript": [
              "\n",
              "    async function download(id, filename, size) {\n",
              "      if (!google.colab.kernel.accessAllowed) {\n",
              "        return;\n",
              "      }\n",
              "      const div = document.createElement('div');\n",
              "      const label = document.createElement('label');\n",
              "      label.textContent = `Downloading \"${filename}\": `;\n",
              "      div.appendChild(label);\n",
              "      const progress = document.createElement('progress');\n",
              "      progress.max = size;\n",
              "      div.appendChild(progress);\n",
              "      document.body.appendChild(div);\n",
              "\n",
              "      const buffers = [];\n",
              "      let downloaded = 0;\n",
              "\n",
              "      const channel = await google.colab.kernel.comms.open(id);\n",
              "      // Send a message to notify the kernel that we're ready.\n",
              "      channel.send({})\n",
              "\n",
              "      for await (const message of channel.messages) {\n",
              "        // Send a message to notify the kernel that we're ready.\n",
              "        channel.send({})\n",
              "        if (message.buffers) {\n",
              "          for (const buffer of message.buffers) {\n",
              "            buffers.push(buffer);\n",
              "            downloaded += buffer.byteLength;\n",
              "            progress.value = downloaded;\n",
              "          }\n",
              "        }\n",
              "      }\n",
              "      const blob = new Blob(buffers, {type: 'application/binary'});\n",
              "      const a = document.createElement('a');\n",
              "      a.href = window.URL.createObjectURL(blob);\n",
              "      a.download = filename;\n",
              "      div.appendChild(a);\n",
              "      a.click();\n",
              "      div.remove();\n",
              "    }\n",
              "  "
            ],
            "text/plain": [
              "<IPython.core.display.Javascript object>"
            ]
          },
          "metadata": {
            "tags": []
          }
        },
        {
          "output_type": "display_data",
          "data": {
            "application/javascript": [
              "download(\"download_76a6b9da-3018-4227-a9e9-ccc1e87f770f\", \"prediction_results.csv\", 12902)"
            ],
            "text/plain": [
              "<IPython.core.display.Javascript object>"
            ]
          },
          "metadata": {
            "tags": []
          }
        }
      ]
    },
    {
      "cell_type": "code",
      "metadata": {
        "id": "Xf9ClFxrEPnD",
        "colab_type": "code",
        "colab": {}
      },
      "source": [
        ""
      ],
      "execution_count": null,
      "outputs": []
    }
  ]
}
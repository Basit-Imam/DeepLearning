{
 "cells": [
  {
   "cell_type": "markdown",
   "metadata": {},
   "source": [
    "# 1)Basics of deep learning and neural networks\n",
    "\n",
    "In this chapter, you'll become familiar with the fundamental concepts and terminology used in deep learning, and understand why deep learning techniques are so powerful today. You'll build simple neural networks and generate predictions with them."
   ]
  },
  {
   "cell_type": "markdown",
   "metadata": {},
   "source": [
    "## Coding the forward propagation algorithm\n",
    "In this exercise, you'll write code to do forward propagation (prediction) for your first neural network:\n",
    "\n",
    "Ch1Ex4\n",
    "\n",
    "Each data point is a customer. The first input is how many accounts they have, and the second input is how many children they have. The model will predict how many transactions the user makes in the next year. You will use this data throughout the first 2 chapters of this course.\n",
    "\n",
    "The input data has been pre-loaded as input_data, and the weights are available in a dictionary called weights. The array of weights for the first node in the hidden layer are in weights['node_0'], and the array of weights for the second node in the hidden layer are in weights['node_1'].\n",
    "\n",
    "The weights feeding into the output node are available in weights['output'].\n",
    "\n",
    "NumPy will be pre-imported for you as np in all exercises."
   ]
  },
  {
   "cell_type": "code",
   "execution_count": 39,
   "metadata": {},
   "outputs": [],
   "source": [
    "import numpy as np\n",
    "input_data = np.array([3, 5])\n",
    "\n",
    "weights = {'node_0' : np.array([2,4]), 'node_1' : np.array([4, -5]), 'output':np.array([2,7])}"
   ]
  },
  {
   "cell_type": "code",
   "execution_count": 40,
   "metadata": {},
   "outputs": [
    {
     "name": "stdout",
     "output_type": "stream",
     "text": [
      "-39\n"
     ]
    }
   ],
   "source": [
    "# Calculate node 0 value: node_0_value\n",
    "node_0_value = (input_data * weights['node_0']).sum()\n",
    "\n",
    "# Calculate node 1 value: node_1_value\n",
    "node_1_value = (input_data * weights['node_1']).sum()\n",
    "\n",
    "# Put node values into array: hidden_layer_outputs\n",
    "hidden_layer_outputs = np.array([node_0_value, node_1_value])\n",
    "\n",
    "# Calculate output: output\n",
    "output = (hidden_layer_outputs * weights['output']).sum()\n",
    "\n",
    "# Print output\n",
    "print(output)\n"
   ]
  },
  {
   "cell_type": "markdown",
   "metadata": {},
   "source": [
    "## The Rectified Linear Activation Function\n",
    "As Dan explained to you in the video, an \"activation function\" is a function applied at each node. It converts the node's input into some output.\n",
    "\n",
    "The rectified linear activation function (called ReLU) has been shown to lead to very high-performance networks. This function takes a single number as an input, returning 0 if the input is negative, and the input if the input is positive.\n",
    "\n",
    "Here are some examples:\n",
    "relu(3) = 3\n",
    "relu(-3) = 0"
   ]
  },
  {
   "cell_type": "code",
   "execution_count": 41,
   "metadata": {},
   "outputs": [
    {
     "name": "stdout",
     "output_type": "stream",
     "text": [
      "52\n"
     ]
    }
   ],
   "source": [
    "def relu(input):\n",
    "    '''Define your relu activation function here'''\n",
    "    # Calculate the value for the output of the relu function: output\n",
    "    output = max(0, input)\n",
    "    \n",
    "    # Return the value just calculated\n",
    "    return(output)\n",
    "\n",
    "# Calculate node 0 value: node_0_output\n",
    "node_0_input = (input_data * weights['node_0']).sum()\n",
    "node_0_output = relu(node_0_input)\n",
    "\n",
    "# Calculate node 1 value: node_1_output\n",
    "node_1_input = (input_data * weights['node_1']).sum()\n",
    "node_1_output = relu(node_1_input)\n",
    "\n",
    "# Put node values into array: hidden_layer_outputs\n",
    "hidden_layer_outputs = np.array([node_0_output, node_1_output])\n",
    "\n",
    "# Calculate model output (do not apply relu)\n",
    "model_output = (hidden_layer_outputs * weights['output']).sum()\n",
    "\n",
    "# Print model output\n",
    "print(model_output)"
   ]
  },
  {
   "cell_type": "markdown",
   "metadata": {},
   "source": [
    "## Applying the network to many observations/rows of data\n",
    "You'll now define a function called predict_with_network() which will generate predictions for multiple data observations, which are pre-loaded as input_data. As before, weights are also pre-loaded. In addition, the relu() function you defined in the previous exercise has been pre-loaded."
   ]
  },
  {
   "cell_type": "code",
   "execution_count": 42,
   "metadata": {},
   "outputs": [],
   "source": [
    "input_data = np.array([[3, 5],[1,-1],[0,0],[8,4]])"
   ]
  },
  {
   "cell_type": "code",
   "execution_count": 43,
   "metadata": {},
   "outputs": [
    {
     "name": "stdout",
     "output_type": "stream",
     "text": [
      "[52, 63, 0, 148]\n"
     ]
    }
   ],
   "source": [
    "# Define predict_with_network()\n",
    "def predict_with_network(input_data_row, weights):\n",
    "\n",
    "    # Calculate node 0 value\n",
    "    node_0_input = (input_data_row * weights['node_0']).sum()\n",
    "    node_0_output = relu(node_0_input)\n",
    "\n",
    "    # Calculate node 1 value\n",
    "    node_1_input = (input_data_row * weights['node_1']).sum()\n",
    "    node_1_output = relu(node_1_input)\n",
    "\n",
    "    # Put node values into array: hidden_layer_outputs\n",
    "    hidden_layer_outputs = np.array([node_0_output, node_1_output])\n",
    "    \n",
    "    # Calculate model output\n",
    "    input_to_final_layer = (hidden_layer_outputs * weights['output']).sum()\n",
    "    model_output = relu(input_to_final_layer)\n",
    "    \n",
    "    # Return model output\n",
    "    return(model_output)\n",
    "\n",
    "\n",
    "# Create empty list to store prediction results\n",
    "results = []\n",
    "for input_data_row in input_data:\n",
    "    # Append prediction to results\n",
    "    results.append(predict_with_network(input_data_row, weights))\n",
    "\n",
    "# Print results\n",
    "print(results)\n",
    "        "
   ]
  },
  {
   "cell_type": "markdown",
   "metadata": {},
   "source": [
    "## Multi-layer neural networks\n",
    "In this exercise, you'll write code to do forward propagation for a neural network with 2 hidden layers. Each hidden layer has two nodes. The input data has been preloaded as input_data. The nodes in the first hidden layer are called node_0_0 and node_0_1. Their weights are pre-loaded as weights['node_0_0'] and weights['node_0_1'] respectively.\n",
    "\n",
    "The nodes in the second hidden layer are called node_1_0 and node_1_1. Their weights are pre-loaded as weights['node_1_0'] and weights['node_1_1'] respectively.\n",
    "\n",
    "We then create a model output from the hidden nodes using weights pre-loaded as weights['output'].\n",
    "\n"
   ]
  },
  {
   "cell_type": "code",
   "execution_count": 44,
   "metadata": {},
   "outputs": [],
   "source": [
    "input_data = np.array([3,5])\n",
    "weights={'node_0_0':np.array([2,4]),'node_0_1':np.array([4, -5]),'node_1_0':np.array([-1, 2]),'node_1_1':np.array([1, 2]),\n",
    "        'output' : np.array([2,7])}"
   ]
  },
  {
   "cell_type": "code",
   "execution_count": 45,
   "metadata": {},
   "outputs": [
    {
     "name": "stdout",
     "output_type": "stream",
     "text": [
      "182\n"
     ]
    }
   ],
   "source": [
    "def predict_with_network(input_data):\n",
    "    # Calculate node 0 in the first hidden layer\n",
    "    node_0_0_input = (input_data * weights['node_0_0']).sum()\n",
    "    node_0_0_output = relu(node_0_0_input)\n",
    "\n",
    "    # Calculate node 1 in the first hidden layer\n",
    "    node_0_1_input = (input_data * weights['node_0_1']).sum()\n",
    "    node_0_1_output = relu(node_0_1_input)\n",
    "\n",
    "    # Put node values into array: hidden_0_outputs\n",
    "    hidden_0_outputs = np.array([node_0_0_output, node_0_1_output])\n",
    "\n",
    "    # Calculate node 0 in the second hidden layer\n",
    "    node_1_0_input = (hidden_0_outputs * weights['node_1_0']).sum()\n",
    "    node_1_0_output = relu(node_1_0_input)\n",
    "\n",
    "    # Calculate node 1 in the second hidden layer\n",
    "    node_1_1_input = (hidden_0_outputs * weights['node_1_1']).sum()\n",
    "    node_1_1_output = relu(node_1_1_input)\n",
    "\n",
    "    # Put node values into array: hidden_1_outputs\n",
    "    hidden_1_outputs = np.array([node_1_0_output, node_1_1_output])\n",
    "    \n",
    "    # Calculate output here: model_output\n",
    "    model_output = (hidden_1_outputs * weights['output']).sum()\n",
    "    \n",
    "    # Return model_output\n",
    "    return(model_output)\n",
    "\n",
    "output = predict_with_network(input_data)\n",
    "print(output)\n"
   ]
  },
  {
   "cell_type": "markdown",
   "metadata": {},
   "source": [
    "# 2)Optimizing a neural network with backward propagation\n",
    "\n",
    "Learn how to optimize the predictions generated by your neural networks. You'll use a method called backward propagation, which is one of the most important techniques in deep learning. Understanding how it works will give you a strong foundation to build on in the second half of the course."
   ]
  },
  {
   "cell_type": "markdown",
   "metadata": {},
   "source": [
    "## Coding how weight changes affect accuracy\n",
    "Now you'll get to change weights in a real network and see how they affect model accuracy!\n",
    "\n",
    "Have a look at the following neural network: Ch2Ex4\n",
    "\n",
    "Its weights have been pre-loaded as weights_0. Your task in this exercise is to update a single weight in weights_0 to create weights_1, which gives a perfect prediction (in which the predicted value is equal to target_actual: 3).\n",
    "\n",
    "Use a pen and paper if necessary to experiment with different combinations. You'll use the predict_with_network() function, which takes an array of data as the first argument, and weights as the second argument."
   ]
  },
  {
   "cell_type": "code",
   "execution_count": null,
   "metadata": {},
   "outputs": [],
   "source": [
    "# The data point you will make a prediction for\n",
    "input_data = np.array([0, 3])\n",
    "\n",
    "# Sample weights\n",
    "weights_0 = {'node_0': [2, 1],\n",
    "             'node_1': [1, 2],\n",
    "             'output': [1, 1]\n",
    "            }\n",
    "\n",
    "# The actual target value, used to calculate the error\n",
    "target_actual = 3\n",
    "\n",
    "# Make prediction using original weights\n",
    "model_output_0 = predict_with_network(input_data, weights_0)\n",
    "\n",
    "# Calculate error: error_0\n",
    "error_0 = model_output_0 - target_actual\n",
    "\n",
    "# Create weights that cause the network to make perfect prediction (3): weights_1\n",
    "weights_1 = {'node_0': [2, 1],\n",
    "             'node_1': [1, 2],\n",
    "             'output': [1, 0]\n",
    "            }\n",
    "\n",
    "# Make prediction using new weights: model_output_1\n",
    "model_output_1 = predict_with_network(input_data, weights_1)\n",
    "\n",
    "# Calculate error: error_1\n",
    "error_1 = model_output_1 - target_actual\n",
    "\n",
    "# Print error_0 and error_1\n",
    "print(error_0)\n",
    "print(error_1)\n",
    "\n"
   ]
  },
  {
   "cell_type": "code",
   "execution_count": 47,
   "metadata": {},
   "outputs": [],
   "source": [
    "#output: 6 , 0"
   ]
  },
  {
   "cell_type": "markdown",
   "metadata": {},
   "source": [
    "## Scaling up to multiple data points\n",
    "You've seen how different weights will have different accuracies on a single prediction. But usually, you'll want to measure model accuracy on many points. You'll now write code to compare model accuracies for two different sets of weights, which have been stored as weights_0 and weights_1.\n",
    "\n",
    "input_data is a list of arrays. Each item in that list contains the data to make a single prediction. target_actuals is a list of numbers. Each item in that list is the actual value we are trying to predict.\n",
    "\n",
    "In this exercise, you'll use the mean_squared_error() function from sklearn.metrics. It takes the true values and the predicted values as arguments.\n",
    "\n",
    "You'll also use the preloaded predict_with_network() function, which takes an array of data as the first argument, and weights as the second argument."
   ]
  },
  {
   "cell_type": "code",
   "execution_count": null,
   "metadata": {},
   "outputs": [],
   "source": [
    "from sklearn.metrics import mean_squared_error\n",
    "\n",
    "# Create model_output_0 \n",
    "model_output_0 = []\n",
    "# Create model_output_1\n",
    "model_output_1 = []\n",
    "\n",
    "# Loop over input_data\n",
    "for row in input_data:\n",
    "    # Append prediction to model_output_0\n",
    "    model_output_0.append(predict_with_network(row, weights_0))\n",
    "    \n",
    "    # Append prediction to model_output_1\n",
    "    model_output_1.append(predict_with_network(row, weights_1))\n",
    "\n",
    "# Calculate the mean squared error for model_output_0: mse_0\n",
    "mse_0 = mean_squared_error(target_actuals, model_output_0)\n",
    "\n",
    "# Calculate the mean squared error for model_output_1: mse_1\n",
    "mse_1 = mean_squared_error(target_actuals, model_output_1)\n",
    "\n",
    "# Print mse_0 and mse_1\n",
    "print(\"Mean squared error with weights_0: %f\" %mse_0)\n",
    "print(\"Mean squared error with weights_1: %f\" %mse_1)"
   ]
  },
  {
   "cell_type": "code",
   "execution_count": null,
   "metadata": {},
   "outputs": [],
   "source": [
    "# 35.5\n",
    "# 49.8"
   ]
  },
  {
   "cell_type": "markdown",
   "metadata": {},
   "source": [
    "## Calculating slopes\n",
    "You're now going to practice calculating slopes. When plotting the mean-squared error loss function against predictions, the slope is 2 * x * (xb-y), or 2 * input_data * error. Note that x and b may have multiple numbers (x is a vector for each data point, and b is a vector). In this case, the output will also be a vector, which is exactly what you want.\n",
    "\n",
    "You're ready to write the code to calculate this slope while using a single data point. You'll use pre-defined weights called weights as well as data for a single point called input_data. The actual value of the target you want to predict is stored in target."
   ]
  },
  {
   "cell_type": "code",
   "execution_count": 92,
   "metadata": {},
   "outputs": [],
   "source": [
    "input_data = np.array([1, 2, 3])\n",
    "weights = np.array([0, 2, 1])\n",
    "target = 0"
   ]
  },
  {
   "cell_type": "code",
   "execution_count": 93,
   "metadata": {},
   "outputs": [
    {
     "name": "stdout",
     "output_type": "stream",
     "text": [
      "[14 28 42]\n"
     ]
    }
   ],
   "source": [
    "# Calculate the predictions: preds\n",
    "preds = (weights * input_data).sum()\n",
    "\n",
    "# Calculate the error: error\n",
    "error = preds - target\n",
    "\n",
    "# Calculate the slope: slope\n",
    "slope = 2 * input_data * error\n",
    "\n",
    "# Print the slope\n",
    "print(slope)\n"
   ]
  },
  {
   "cell_type": "markdown",
   "metadata": {},
   "source": [
    "## Improving model weights\n",
    "Hurray! You've just calculated the slopes you need. Now it's time to use those slopes to improve your model. If you add the slopes to your weights, you will move in the right direction. However, it's possible to move too far in that direction. So you will want to take a small step in that direction first, using a lower learning rate, and verify that the model is improving.\n",
    "\n",
    "The weights have been pre-loaded as weights, the actual value of the target as target, and the input data as input_data. The predictions from the initial weights are stored as preds."
   ]
  },
  {
   "cell_type": "code",
   "execution_count": 94,
   "metadata": {},
   "outputs": [
    {
     "name": "stdout",
     "output_type": "stream",
     "text": [
      "7\n",
      "5.04\n"
     ]
    }
   ],
   "source": [
    "# Set the learning rate: learning_rate\n",
    "learning_rate = 0.01\n",
    "\n",
    "# Calculate the predictions: preds\n",
    "preds = (weights * input_data).sum()\n",
    "\n",
    "# Calculate the error: error\n",
    "error = preds - target\n",
    "\n",
    "# Calculate the slope: slope\n",
    "slope = 2 * input_data * error\n",
    "\n",
    "# Update the weights: weights_updated\n",
    "weights_updated = weights - (slope * learning_rate)\n",
    "\n",
    "# Get updated predictions: preds_updated\n",
    "preds_updated = (weights_updated * input_data).sum()\n",
    "\n",
    "# Calculate updated error: error_updated\n",
    "error_updated = preds_updated - target\n",
    "\n",
    "# Print the original error\n",
    "print(error)\n",
    "\n",
    "# Print the updated error\n",
    "print(error_updated)\n"
   ]
  },
  {
   "cell_type": "markdown",
   "metadata": {},
   "source": [
    "## Making multiple updates to weights\n",
    "You're now going to make multiple updates so you can dramatically improve your model weights, and see how the predictions improve with each update.\n",
    "\n",
    "To keep your code clean, there is a pre-loaded get_slope() function that takes input_data, target, and weights as arguments. There is also a get_mse() function that takes the same arguments. The input_data, target, and weights have been pre-loaded.\n",
    "\n",
    "This network does not have any hidden layers, and it goes directly from the input (with 3 nodes) to an output node. Note that weights is a single array.\n",
    "\n",
    "We have also pre-loaded matplotlib.pyplot, and the error history will be plotted after you have done your gradient descent steps."
   ]
  },
  {
   "cell_type": "code",
   "execution_count": 95,
   "metadata": {},
   "outputs": [
    {
     "data": {
      "text/plain": [
       "array([14, 28, 42])"
      ]
     },
     "execution_count": 95,
     "metadata": {},
     "output_type": "execute_result"
    }
   ],
   "source": [
    "def get_slope(input_data, target, weights):\n",
    "    preds = (input_data * weights).sum()\n",
    "    error = preds - target\n",
    "    slope = 2 * input_data * error\n",
    "    return(slope)\n",
    "\n",
    "get_slope(input_data, 0, weights)"
   ]
  },
  {
   "cell_type": "code",
   "execution_count": 96,
   "metadata": {},
   "outputs": [
    {
     "data": {
      "text/plain": [
       "49.0"
      ]
     },
     "execution_count": 96,
     "metadata": {},
     "output_type": "execute_result"
    }
   ],
   "source": [
    "def get_mse(input_data, targer, weights):\n",
    "    preds = (input_data * weights).sum()\n",
    "    return(np.square(preds - target).mean())\n",
    "get_mse(input_data, 0, weights)"
   ]
  },
  {
   "cell_type": "code",
   "execution_count": 97,
   "metadata": {},
   "outputs": [
    {
     "data": {
      "image/png": "[encoded data removed]",
      "text/plain": [
       "<Figure size 432x288 with 1 Axes>"
      ]
     },
     "metadata": {
      "needs_background": "light"
     },
     "output_type": "display_data"
    },
    {
     "name": "stdout",
     "output_type": "stream",
     "text": [
      "9.627110070005501e-05\n",
      "[0.02725495 0.05450991 0.08176486]\n",
      "[25.401600000000002, 13.16818944, 6.826389405696002, 3.538800267912807, 1.834514058885999, 0.9510120881265021, 0.4930046664847785, 0.2555736191057092, 0.13248936414439966, 0.06868248637245665, 0.035605000935481655, 0.018457632484953686, 0.009568436680199997, 0.004960277575015649, 0.0025714078948881436, 0.0013330178527099956, 0.0006910364548448491, 0.0003582332981915815, 0.0001857081417825098, 9.627110070005501e-05]\n"
     ]
    }
   ],
   "source": [
    "import matplotlib.pyplot as plt\n",
    "n_updates = 20\n",
    "mse_hist = []\n",
    "\n",
    "# Iterate over the number of updates\n",
    "for i in range(n_updates):\n",
    "    # Calculate the slope: slope\n",
    "    slope = get_slope(input_data, target, weights)\n",
    "    \n",
    "    # Update the weights: weights\n",
    "    weights = weights - slope * 0.01\n",
    "    \n",
    "    # Calculate mse with new weights: mse\n",
    "    mse = get_mse(input_data, target, weights)\n",
    "    \n",
    "    # Append the mse to mse_hist\n",
    "    mse_hist.append(mse)\n",
    "\n",
    "# Plot the mse history\n",
    "plt.plot(mse_hist)\n",
    "plt.xlabel('Iterations')\n",
    "plt.ylabel('Mean Squared Error')\n",
    "plt.show()\n",
    "print(mse)\n",
    "print(slope)\n",
    "print(mse_hist)"
   ]
  },
  {
   "cell_type": "markdown",
   "metadata": {},
   "source": [
    "# 3)Building deep learning models with keras\n",
    "\n",
    "In this chapter, you'll use the Keras library to build deep learning models for both regression and classification. You'll learn about the Specify-Compile-Fit workflow that you can use to make predictions, and by the end of the chapter, you'll have all the tools necessary to build deep neural networks."
   ]
  },
  {
   "cell_type": "code",
   "execution_count": 99,
   "metadata": {},
   "outputs": [
    {
     "name": "stderr",
     "output_type": "stream",
     "text": [
      "Using TensorFlow backend.\n"
     ]
    }
   ],
   "source": [
    "import numpy as np\n",
    "from keras.layers import Dense\n",
    "from keras.models import Sequential"
   ]
  },
  {
   "cell_type": "markdown",
   "metadata": {},
   "source": [
    "## Specifying a model\n",
    "Now you'll get to work with your first model in Keras, and will immediately be able to run more complex neural network models on larger datasets compared to the first two chapters.\n",
    "\n",
    "To start, you'll take the skeleton of a neural network and add a hidden layer and an output layer. You'll then fit that model and see Keras do the optimization so your model continually gets better.\n",
    "\n",
    "As a start, you'll predict workers wages based on characteristics like their industry, education and level of experience. You can find the dataset in a pandas dataframe called df. For convenience, everything in df except for the target has been converted to a NumPy matrix called predictors. The target, wage_per_hour, is available as a NumPy matrix called target.\n",
    "\n",
    "For all exercises in this chapter, we've imported the Sequential model constructor, the Dense layer constructor, and pandas."
   ]
  },
  {
   "cell_type": "code",
   "execution_count": 122,
   "metadata": {},
   "outputs": [],
   "source": [
    "import pandas as pd\n",
    "df = pd.read_csv('Hourly wage.csv')"
   ]
  },
  {
   "cell_type": "code",
   "execution_count": 123,
   "metadata": {},
   "outputs": [
    {
     "data": {
      "text/html": [
       "<div>\n",
       "<style scoped>\n",
       "    .dataframe tbody tr th:only-of-type {\n",
       "        vertical-align: middle;\n",
       "    }\n",
       "\n",
       "    .dataframe tbody tr th {\n",
       "        vertical-align: top;\n",
       "    }\n",
       "\n",
       "    .dataframe thead th {\n",
       "        text-align: right;\n",
       "    }\n",
       "</style>\n",
       "<table border=\"1\" class=\"dataframe\">\n",
       "  <thead>\n",
       "    <tr style=\"text-align: right;\">\n",
       "      <th></th>\n",
       "      <th>wage_per_hour</th>\n",
       "      <th>union</th>\n",
       "      <th>education_yrs</th>\n",
       "      <th>experience_yrs</th>\n",
       "      <th>age</th>\n",
       "      <th>female</th>\n",
       "      <th>marr</th>\n",
       "      <th>south</th>\n",
       "      <th>manufacturing</th>\n",
       "      <th>construction</th>\n",
       "    </tr>\n",
       "  </thead>\n",
       "  <tbody>\n",
       "    <tr>\n",
       "      <th>0</th>\n",
       "      <td>5.10</td>\n",
       "      <td>0</td>\n",
       "      <td>8</td>\n",
       "      <td>21</td>\n",
       "      <td>35</td>\n",
       "      <td>1</td>\n",
       "      <td>1</td>\n",
       "      <td>0</td>\n",
       "      <td>1</td>\n",
       "      <td>0</td>\n",
       "    </tr>\n",
       "    <tr>\n",
       "      <th>1</th>\n",
       "      <td>4.95</td>\n",
       "      <td>0</td>\n",
       "      <td>9</td>\n",
       "      <td>42</td>\n",
       "      <td>57</td>\n",
       "      <td>1</td>\n",
       "      <td>1</td>\n",
       "      <td>0</td>\n",
       "      <td>1</td>\n",
       "      <td>0</td>\n",
       "    </tr>\n",
       "    <tr>\n",
       "      <th>2</th>\n",
       "      <td>6.67</td>\n",
       "      <td>0</td>\n",
       "      <td>12</td>\n",
       "      <td>1</td>\n",
       "      <td>19</td>\n",
       "      <td>0</td>\n",
       "      <td>0</td>\n",
       "      <td>0</td>\n",
       "      <td>1</td>\n",
       "      <td>0</td>\n",
       "    </tr>\n",
       "    <tr>\n",
       "      <th>3</th>\n",
       "      <td>4.00</td>\n",
       "      <td>0</td>\n",
       "      <td>12</td>\n",
       "      <td>4</td>\n",
       "      <td>22</td>\n",
       "      <td>0</td>\n",
       "      <td>0</td>\n",
       "      <td>0</td>\n",
       "      <td>0</td>\n",
       "      <td>0</td>\n",
       "    </tr>\n",
       "    <tr>\n",
       "      <th>4</th>\n",
       "      <td>7.50</td>\n",
       "      <td>0</td>\n",
       "      <td>12</td>\n",
       "      <td>17</td>\n",
       "      <td>35</td>\n",
       "      <td>0</td>\n",
       "      <td>1</td>\n",
       "      <td>0</td>\n",
       "      <td>0</td>\n",
       "      <td>0</td>\n",
       "    </tr>\n",
       "  </tbody>\n",
       "</table>\n",
       "</div>"
      ],
      "text/plain": [
       "   wage_per_hour  union  education_yrs  experience_yrs  age  female  marr  \\\n",
       "0           5.10      0              8              21   35       1     1   \n",
       "1           4.95      0              9              42   57       1     1   \n",
       "2           6.67      0             12               1   19       0     0   \n",
       "3           4.00      0             12               4   22       0     0   \n",
       "4           7.50      0             12              17   35       0     1   \n",
       "\n",
       "   south  manufacturing  construction  \n",
       "0      0              1             0  \n",
       "1      0              1             0  \n",
       "2      0              1             0  \n",
       "3      0              0             0  \n",
       "4      0              0             0  "
      ]
     },
     "execution_count": 123,
     "metadata": {},
     "output_type": "execute_result"
    }
   ],
   "source": [
    "df.head()"
   ]
  },
  {
   "cell_type": "code",
   "execution_count": 124,
   "metadata": {},
   "outputs": [
    {
     "data": {
      "text/plain": [
       "array([[ 0,  8, 21, ...,  0,  1,  0],\n",
       "       [ 0,  9, 42, ...,  0,  1,  0],\n",
       "       [ 0, 12,  1, ...,  0,  1,  0],\n",
       "       ...,\n",
       "       [ 1, 17, 25, ...,  0,  0,  0],\n",
       "       [ 1, 12, 13, ...,  1,  0,  0],\n",
       "       [ 0, 16, 33, ...,  0,  1,  0]], dtype=int64)"
      ]
     },
     "execution_count": 124,
     "metadata": {},
     "output_type": "execute_result"
    }
   ],
   "source": [
    "predictors = df.drop('wage_per_hour', axis=1).values\n",
    "predictors"
   ]
  },
  {
   "cell_type": "code",
   "execution_count": 125,
   "metadata": {
    "collapsed": true
   },
   "outputs": [
    {
     "data": {
      "text/plain": [
       "array([ 5.1 ,  4.95,  6.67,  4.  ,  7.5 , 13.07,  4.45, 19.47, 13.28,\n",
       "        8.75, 11.35, 11.5 ,  6.5 ,  6.25, 19.98,  7.3 ,  8.  , 22.2 ,\n",
       "        3.65, 20.55,  5.71,  7.  ,  3.75,  4.5 ,  9.56,  5.75,  9.36,\n",
       "        6.5 ,  3.35,  4.75,  8.9 ,  4.  ,  4.7 ,  5.  ,  9.25, 10.67,\n",
       "        7.61, 10.  ,  7.5 , 12.2 ,  3.35, 11.  , 12.  ,  4.85,  4.3 ,\n",
       "        6.  , 15.  ,  4.85,  9.  ,  6.36,  9.15, 11.  ,  4.5 ,  4.8 ,\n",
       "        4.  ,  5.5 ,  8.4 ,  6.75, 10.  ,  5.  ,  6.5 , 10.75,  7.  ,\n",
       "       11.43,  4.  ,  9.  , 13.  , 12.22,  6.28,  6.75,  3.35, 16.  ,\n",
       "        5.25,  3.5 ,  4.22,  3.  ,  4.  , 10.  ,  5.  , 16.  , 13.98,\n",
       "       13.26,  6.1 ,  3.75,  9.  ,  9.45,  5.5 ,  8.93,  6.25,  9.75,\n",
       "        6.73,  7.78,  2.85,  3.35, 19.98,  8.5 ,  9.75, 15.  ,  8.  ,\n",
       "       11.25, 14.  , 10.  ,  6.5 ,  9.83, 18.5 , 12.5 , 26.  , 14.  ,\n",
       "       10.5 , 11.  , 12.47, 12.5 , 15.  ,  6.  ,  9.5 ,  5.  ,  3.75,\n",
       "       12.57,  6.88,  5.5 ,  7.  ,  4.5 ,  6.5 , 12.  ,  5.  ,  6.5 ,\n",
       "        6.8 ,  8.75,  3.75,  4.5 ,  6.  ,  5.5 , 13.  ,  5.65,  4.8 ,\n",
       "        7.  ,  5.25,  3.35,  8.5 ,  6.  ,  6.75,  8.89, 14.21, 10.78,\n",
       "        8.9 ,  7.5 ,  4.5 , 11.25, 13.45,  6.  ,  4.62, 10.58,  5.  ,\n",
       "        8.2 ,  6.25,  8.5 , 24.98, 16.65,  6.25,  4.55, 11.25, 21.25,\n",
       "       12.65,  7.5 , 10.25,  3.35, 13.45,  4.84, 26.29,  6.58, 44.5 ,\n",
       "       15.  , 11.25,  7.  , 10.  , 14.53, 20.  , 22.5 ,  3.64, 10.62,\n",
       "       24.98,  6.  , 19.  , 13.2 , 22.5 , 15.  ,  6.88, 11.84, 16.14,\n",
       "       13.95, 13.16,  5.3 ,  4.5 , 10.  , 10.  , 10.  ,  9.37,  5.8 ,\n",
       "       17.86,  1.  ,  8.8 ,  9.  , 18.16,  7.81, 10.62,  4.5 , 17.25,\n",
       "       10.5 ,  9.22, 15.  , 22.5 ,  4.55,  9.  , 13.33, 15.  ,  7.5 ,\n",
       "        4.25, 12.5 ,  5.13,  3.35, 11.11,  3.84,  6.4 ,  5.56, 10.  ,\n",
       "        5.65, 11.5 ,  3.5 ,  3.35,  4.75, 19.98,  3.5 ,  4.  ,  7.  ,\n",
       "        6.25,  4.5 , 14.29,  5.  , 13.75, 13.71,  7.5 ,  3.8 ,  5.  ,\n",
       "        9.42,  5.5 ,  3.75,  3.5 ,  5.8 , 12.  ,  5.  ,  8.75, 10.  ,\n",
       "        8.5 ,  8.63,  9.  ,  5.5 , 11.11, 10.  ,  5.2 ,  8.  ,  3.56,\n",
       "        5.2 , 11.67, 11.32,  7.5 ,  5.5 ,  5.  ,  7.75,  5.25,  9.  ,\n",
       "        9.65,  5.21,  7.  , 12.16,  5.25, 10.32,  3.35,  7.7 ,  9.17,\n",
       "        8.43,  4.  ,  4.13,  3.  ,  4.25,  7.53, 10.53,  5.  , 15.03,\n",
       "       11.25,  6.25,  3.5 ,  6.85, 12.5 , 12.  ,  6.  ,  9.5 ,  4.1 ,\n",
       "       10.43,  5.  ,  7.69,  5.5 ,  6.4 , 12.5 ,  6.25,  8.  ,  9.6 ,\n",
       "        9.1 ,  7.5 ,  5.  ,  7.  ,  3.55,  8.5 ,  4.5 ,  7.88,  5.25,\n",
       "        5.  ,  9.33, 10.5 ,  7.5 ,  9.5 ,  9.6 ,  5.87, 11.02,  5.  ,\n",
       "        5.62, 12.5 , 10.81,  5.4 ,  7.  ,  4.59,  6.  , 11.71,  5.62,\n",
       "        5.5 ,  4.85,  6.75,  4.25,  5.75,  3.5 ,  3.35, 10.62,  8.  ,\n",
       "        4.75,  8.5 ,  8.85,  8.  ,  6.  ,  7.14,  3.4 ,  6.  ,  3.75,\n",
       "        8.89,  4.35, 13.1 ,  4.35,  3.5 ,  3.8 ,  5.26,  3.35, 16.26,\n",
       "        4.25,  4.5 ,  8.  ,  4.  ,  7.96,  4.  ,  4.15,  5.95,  3.6 ,\n",
       "        8.75,  3.4 ,  4.28,  5.35,  5.  ,  7.65,  6.94,  7.5 ,  3.6 ,\n",
       "        1.75,  3.45,  9.63,  8.49,  8.99,  3.65,  3.5 ,  3.43,  5.5 ,\n",
       "        6.93,  3.51,  3.75,  4.17,  9.57, 14.67, 12.5 ,  5.5 ,  5.15,\n",
       "        8.  ,  5.83,  3.35,  7.  , 10.  ,  8.  ,  6.88,  5.55,  7.5 ,\n",
       "        8.93,  9.  ,  3.5 ,  5.77, 25.  ,  6.85,  6.5 ,  3.75,  3.5 ,\n",
       "        4.5 ,  2.01,  4.17, 13.  ,  3.98,  7.5 , 13.12,  4.  ,  3.95,\n",
       "       13.  ,  9.  ,  4.55,  9.5 ,  4.5 ,  8.75, 10.  , 18.  , 24.98,\n",
       "       12.05, 22.  ,  8.75, 22.2 , 17.25,  6.  ,  8.06,  9.24, 12.  ,\n",
       "       10.61,  5.71, 10.  , 17.5 , 15.  ,  7.78,  7.8 , 10.  , 24.98,\n",
       "       10.28, 15.  , 12.  , 10.58,  5.85, 11.22,  8.56, 13.89,  5.71,\n",
       "       15.79,  7.5 , 11.25,  6.15, 13.45,  6.25,  6.5 , 12.  ,  8.5 ,\n",
       "        8.  ,  5.75, 15.73,  9.86, 13.51,  5.4 ,  6.25,  5.5 ,  5.  ,\n",
       "        6.25,  5.75, 20.5 ,  5.  ,  7.  , 18.  , 12.  , 20.4 , 22.2 ,\n",
       "       16.42,  8.63, 19.38, 14.  , 10.  , 15.95, 20.  , 10.  , 24.98,\n",
       "       11.25, 22.83, 10.2 , 10.  , 14.  , 12.5 ,  5.79, 24.98,  4.35,\n",
       "       11.25,  6.67,  8.  , 18.16, 12.  ,  8.89,  9.5 , 13.65, 12.  ,\n",
       "       15.  , 12.67,  7.38, 15.56,  7.45,  6.25,  6.25,  9.37, 22.5 ,\n",
       "        7.5 ,  7.  ,  5.75,  7.67, 12.5 , 16.  , 11.79, 11.36,  6.1 ,\n",
       "       23.25, 19.88, 15.38])"
      ]
     },
     "execution_count": 125,
     "metadata": {},
     "output_type": "execute_result"
    }
   ],
   "source": [
    "target = df['wage_per_hour'].values\n",
    "target"
   ]
  },
  {
   "cell_type": "code",
   "execution_count": 126,
   "metadata": {},
   "outputs": [],
   "source": [
    "# Import necessary modules\n",
    "import keras\n",
    "from keras.layers import Dense\n",
    "from keras.models import Sequential\n",
    "\n",
    "# Save the number of columns in predictors: n_cols\n",
    "n_cols = predictors.shape[1]\n",
    "\n",
    "# Set up the model: model\n",
    "model = Sequential()\n",
    "\n",
    "# Add the first layer\n",
    "model.add(Dense(50, activation='relu', input_shape=(n_cols,)))\n",
    "\n",
    "# Add the second layer\n",
    "model.add(Dense(32, activation='relu'))\n",
    "\n",
    "# Add the output layer\n",
    "model.add(Dense(1))\n"
   ]
  },
  {
   "cell_type": "markdown",
   "metadata": {},
   "source": [
    "## Compiling the model\n",
    "You're now going to compile the model you specified earlier. To compile the model, you need to specify the optimizer and loss function to use. In the video, Dan mentioned that the Adam optimizer is an excellent choice. You can read more about it as well as other keras optimizers here, and if you are really curious to learn more, you can read the original paper that introduced the Adam optimizer.\n",
    "\n",
    "In this exercise, you'll use the Adam optimizer and the mean squared error loss function. Go for it!"
   ]
  },
  {
   "cell_type": "code",
   "execution_count": 127,
   "metadata": {},
   "outputs": [
    {
     "name": "stdout",
     "output_type": "stream",
     "text": [
      "Loss function: mean_squared_error\n"
     ]
    }
   ],
   "source": [
    "# Import necessary modules\n",
    "import keras\n",
    "from keras.layers import Dense\n",
    "from keras.models import Sequential\n",
    "\n",
    "# Specify the model\n",
    "n_cols = predictors.shape[1]\n",
    "model = Sequential()\n",
    "model.add(Dense(50, activation='relu', input_shape = (n_cols,)))\n",
    "model.add(Dense(32, activation='relu'))\n",
    "model.add(Dense(1))\n",
    "\n",
    "# Compile the model\n",
    "model.compile(optimizer='adam', loss='mean_squared_error')\n",
    "\n",
    "# Verify that model contains information from compiling\n",
    "print(\"Loss function: \" + model.loss)"
   ]
  },
  {
   "cell_type": "markdown",
   "metadata": {},
   "source": [
    "## Fitting the model\n",
    "You're at the most fun part. You'll now fit the model. Recall that the data to be used as predictive features is loaded in a NumPy matrix called predictors and the data to be predicted is stored in a NumPy matrix called target. Your model is pre-written and it has been compiled with the code from the previous exercise."
   ]
  },
  {
   "cell_type": "code",
   "execution_count": 128,
   "metadata": {},
   "outputs": [
    {
     "name": "stdout",
     "output_type": "stream",
     "text": [
      "Epoch 1/10\n",
      "534/534 [==============================] - 0s 340us/step - loss: 30.1798\n",
      "Epoch 2/10\n",
      "534/534 [==============================] - 0s 75us/step - loss: 22.6711\n",
      "Epoch 3/10\n",
      "534/534 [==============================] - 0s 90us/step - loss: 21.7892\n",
      "Epoch 4/10\n",
      "534/534 [==============================] - 0s 67us/step - loss: 21.1419\n",
      "Epoch 5/10\n",
      "534/534 [==============================] - 0s 90us/step - loss: 21.3822\n",
      "Epoch 6/10\n",
      "534/534 [==============================] - 0s 75us/step - loss: 21.0256\n",
      "Epoch 7/10\n",
      "534/534 [==============================] - 0s 112us/step - loss: 20.7634\n",
      "Epoch 8/10\n",
      "534/534 [==============================] - 0s 90us/step - loss: 21.8632\n",
      "Epoch 9/10\n",
      "534/534 [==============================] - 0s 90us/step - loss: 21.3193\n",
      "Epoch 10/10\n",
      "534/534 [==============================] - 0s 90us/step - loss: 20.5069\n"
     ]
    },
    {
     "data": {
      "text/plain": [
       "<keras.callbacks.callbacks.History at 0x248efbbcc48>"
      ]
     },
     "execution_count": 128,
     "metadata": {},
     "output_type": "execute_result"
    }
   ],
   "source": [
    "# Fit the model\n",
    "model.fit(predictors, target,epochs=10)"
   ]
  },
  {
   "cell_type": "markdown",
   "metadata": {},
   "source": [
    "## Classification Models"
   ]
  },
  {
   "cell_type": "markdown",
   "metadata": {},
   "source": [
    "## Last steps in classification models\n",
    "You'll now create a classification model using the titanic dataset, which has been pre-loaded into a DataFrame called df. You'll take information about the passengers and predict which ones survived.\n",
    "\n",
    "The predictive variables are stored in a NumPy array predictors. The target to predict is in df.survived, though you'll have to manipulate it for keras. The number of predictive features is stored in n_cols.\n",
    "\n",
    "Here, you'll use the 'sgd' optimizer, which stands for Stochastic Gradient Descent. You'll learn more about this in the next chapter!"
   ]
  },
  {
   "cell_type": "code",
   "execution_count": 150,
   "metadata": {},
   "outputs": [],
   "source": [
    "df = pd.read_csv('Titanic.csv')\n",
    "predictors = df.drop(['survived'], axis=1).values\n",
    "n_cols = predictors.shape[1]"
   ]
  },
  {
   "cell_type": "code",
   "execution_count": 151,
   "metadata": {},
   "outputs": [
    {
     "name": "stdout",
     "output_type": "stream",
     "text": [
      "Epoch 1/10\n",
      "891/891 [==============================] - 0s 146us/step - loss: 3.4570 - accuracy: 0.5993\n",
      "Epoch 2/10\n",
      "891/891 [==============================] - 0s 54us/step - loss: 1.0447 - accuracy: 0.6229\n",
      "Epoch 3/10\n",
      "891/891 [==============================] - 0s 49us/step - loss: 0.6761 - accuracy: 0.6532\n",
      "Epoch 4/10\n",
      "891/891 [==============================] - 0s 58us/step - loss: 0.6147 - accuracy: 0.6700\n",
      "Epoch 5/10\n",
      "891/891 [==============================] - 0s 58us/step - loss: 0.6053 - accuracy: 0.6835\n",
      "Epoch 6/10\n",
      "891/891 [==============================] - 0s 63us/step - loss: 0.5825 - accuracy: 0.6958\n",
      "Epoch 7/10\n",
      "891/891 [==============================] - 0s 54us/step - loss: 0.5909 - accuracy: 0.6857\n",
      "Epoch 8/10\n",
      "891/891 [==============================] - 0s 51us/step - loss: 0.5718 - accuracy: 0.7116\n",
      "Epoch 9/10\n",
      "891/891 [==============================] - 0s 54us/step - loss: 0.5655 - accuracy: 0.7059\n",
      "Epoch 10/10\n",
      "891/891 [==============================] - 0s 54us/step - loss: 0.5754 - accuracy: 0.7093\n"
     ]
    },
    {
     "data": {
      "text/plain": [
       "<keras.callbacks.callbacks.History at 0x248f1842608>"
      ]
     },
     "execution_count": 151,
     "metadata": {},
     "output_type": "execute_result"
    }
   ],
   "source": [
    "# Import necessary modules\n",
    "import keras\n",
    "from keras.layers import Dense\n",
    "from keras.models import Sequential\n",
    "from keras.utils import to_categorical\n",
    "\n",
    "# Convert the target to categorical: target\n",
    "target = to_categorical(df.survived)\n",
    "\n",
    "# Set up the model\n",
    "model = Sequential()\n",
    "\n",
    "# Add the first layer\n",
    "model.add(Dense(32, activation='relu', input_shape=(n_cols,)))\n",
    "\n",
    "# Add the output layer\n",
    "model.add(Dense(2, activation='softmax'))\n",
    "\n",
    "# Compile the model\n",
    "model.compile(optimizer='sgd', loss='categorical_crossentropy', metrics=['accuracy'])\n",
    "\n",
    "# Fit the model\n",
    "model.fit(predictors, target, epochs=10)\n"
   ]
  },
  {
   "cell_type": "markdown",
   "metadata": {},
   "source": [
    "## Making predictions\n",
    "The trained network from your previous coding exercise is now stored as model. New data to make predictions is stored in a NumPy array as pred_data. Use model to make predictions on your new data.\n",
    "\n",
    "In this exercise, your predictions will be probabilities, which is the most common way for data scientists to communicate their predictions to colleagues."
   ]
  },
  {
   "cell_type": "code",
   "execution_count": 153,
   "metadata": {
    "collapsed": true
   },
   "outputs": [
    {
     "name": "stdout",
     "output_type": "stream",
     "text": [
      "[0.0845026  0.53543115 0.12192323 0.5200742  0.04140761 0.08663467\n",
      " 0.23711261 0.36337638 0.1099875  0.44759953 0.42997435 0.12774982\n",
      " 0.12939541 0.06939531 0.27903488 0.04026439 0.3444445  0.13504677\n",
      " 0.20102854 0.09362011 0.16972585 0.09821483 0.33259755 0.44377446\n",
      " 0.35864946 0.10799799 0.06099675 0.5512909  0.12897316 0.0605495\n",
      " 0.14858982 0.67447406 0.1285122  0.00708515 0.52036357 0.433002\n",
      " 0.06100437 0.11992601 0.3222303  0.29656115 0.04390297 0.27849436\n",
      " 0.06223025 0.44337395 0.25314945 0.06091272 0.15876931 0.1285122\n",
      " 0.14142297 0.34576973 0.35003275 0.11645525 0.5321073  0.30164486\n",
      " 0.17589624 0.43003666 0.26656273 0.06148409 0.4460837  0.2958147\n",
      " 0.09812041 0.5920139  0.5100789  0.34384045 0.2682706  0.09703707\n",
      " 0.16156137 0.1416205  0.08328699 0.06077091 0.08497256 0.2959706\n",
      " 0.5251521  0.14234474 0.43602648 0.08365574 0.0605495  0.06091272\n",
      " 0.45649385 0.15245469 0.12418392 0.07624482 0.12864591 0.48295087\n",
      " 0.31501427 0.10766485 0.27638566 0.06091272 0.57202387 0.09504113\n",
      " 0.06370544 0.12648532 0.46580493 0.1378543  0.00721026 0.06091272\n",
      " 0.06828905 0.471973   0.19775479 0.17156371 0.10415716 0.0605495\n",
      " 0.52688825 0.0495273  0.02838429 0.06777468 0.17123559 0.06033131\n",
      " 0.03429984 0.30044383 0.4073724  0.31915566 0.1110612  0.19988915\n",
      " 0.3001839  0.11817963 0.00396999 0.18291347 0.5863357  0.35888666\n",
      " 0.46967047 0.06091272 0.22244655 0.16555348 0.48223728 0.2565325\n",
      " 0.08486862 0.08513182 0.1816538  0.02162134 0.04785549 0.11511458\n",
      " 0.04238085 0.30164486 0.18299298 0.19295776 0.41077638 0.46055177\n",
      " 0.19806838 0.54818237 0.13613433 0.16105616 0.24838665 0.15361623\n",
      " 0.22469458 0.3756646  0.07256828 0.38769624 0.11148389 0.05157589\n",
      " 0.02283479 0.5709548  0.01101686 0.03612727 0.05950276 0.38596967\n",
      " 0.30521902 0.05871914 0.06575076 0.2185688  0.04124643 0.12985377\n",
      " 0.07843189 0.17625342 0.37011033 0.32701167 0.5343342  0.07482853\n",
      " 0.24438767 0.43881422 0.08578948 0.33224824 0.44342595 0.11817963\n",
      " 0.09647972 0.10148626 0.15796627 0.16156559 0.13354698 0.01706046\n",
      " 0.262133   0.16203012 0.298479   0.43575928 0.44296056 0.5054664\n",
      " 0.22659488 0.12971722 0.0579359  0.03877221 0.17163756 0.22492118\n",
      " 0.17189926 0.44120336 0.18529531 0.6968262  0.08486862 0.02022109\n",
      " 0.1285122  0.27163967 0.08258882 0.2185688  0.04197378 0.02173419\n",
      " 0.15135822 0.44761813 0.10859307 0.16580234 0.30572563 0.1631387\n",
      " 0.08418522 0.21246725 0.10096762 0.13354698 0.07530382 0.63964397\n",
      " 0.11292972 0.12616023 0.58552647 0.09948202 0.17744754 0.16211355\n",
      " 0.01537317 0.0605495  0.5386287  0.12934448 0.21477619 0.1134178\n",
      " 0.23363437 0.21673037 0.5873487  0.06155494 0.01363719 0.35169074\n",
      " 0.15681797 0.09203412 0.11372596 0.43430838 0.21477619 0.09735326\n",
      " 0.16274177 0.22659488 0.10753436 0.09946603 0.05619675 0.52008617\n",
      " 0.12926103 0.20870177 0.41518012 0.07662345 0.05939164 0.08935999\n",
      " 0.06599487 0.1269651  0.10086434 0.14439875 0.6124223  0.6295043\n",
      " 0.7413684  0.13044083 0.08486862 0.3250003  0.45493704 0.01435109\n",
      " 0.1285122  0.06157827 0.2886383  0.07088356 0.69223684 0.7220924\n",
      " 0.35355833 0.04313465 0.14036086 0.15815894 0.1285122  0.5397791\n",
      " 0.03476429 0.03389604 0.32389486 0.15550792 0.00638252 0.06742539\n",
      " 0.2029707  0.13974845 0.24582425 0.04897891 0.07035077 0.10904931\n",
      " 0.05157589 0.20355414 0.6190847  0.57126844 0.08043143 0.1574287\n",
      " 0.093289   0.2682706  0.08718426 0.52792645 0.34182045 0.7738471\n",
      " 0.1285122  0.2045585  0.07052004 0.23665303 0.06091272 0.507966\n",
      " 0.6803022  0.5565293  0.1812134  0.5432122  0.61554    0.5768311\n",
      " 0.33587    0.06777468 0.09864986 0.12091707 0.40125355 0.02145044\n",
      " 0.6444965  0.64050794 0.10096762 0.07346997 0.23132233 0.3881836\n",
      " 0.2185688  0.70150584 0.00519121 0.1277133  0.18216522 0.5289969\n",
      " 0.2866154  0.13260871 0.665786   0.27159056 0.70109254 0.0605495\n",
      " 0.49878174 0.69873035 0.02235657 0.1637359  0.44619125 0.5723818\n",
      " 0.15241565 0.18299298 0.08387298 0.27163967 0.09375755 0.18587074\n",
      " 0.39757872 0.02744514 0.11813251 0.42700773 0.11723435 0.17698415\n",
      " 0.06099675 0.08258882 0.5311762  0.10958742 0.12897316 0.12897316\n",
      " 0.05929662 0.24880923 0.04690428 0.04016343 0.15876931 0.05471059\n",
      " 0.51263064 0.09363143 0.1285122  0.58342844 0.46145517 0.10565695\n",
      " 0.13974845 0.58116657 0.39413837 0.59269255 0.15225817 0.5786342\n",
      " 0.09218796 0.13515443 0.7357066  0.43064827 0.04949271 0.51876384\n",
      " 0.0605495  0.53166544 0.330186   0.1277133  0.08481726 0.30743495\n",
      " 0.53475446 0.11639771 0.04923306 0.6009195  0.18902461 0.10776171\n",
      " 0.08182129 0.11153159 0.16864222 0.2118307  0.03228337 0.08112109\n",
      " 0.18537    0.14240597 0.20586565 0.14889495 0.01522941 0.4239017\n",
      " 0.11611303 0.21673037 0.0605495  0.08269179 0.6251629  0.03389604\n",
      " 0.02369759 0.09398293 0.28873557 0.23941842 0.13354698 0.39697248\n",
      " 0.06223025 0.1481536  0.06232898 0.15073928 0.25463876 0.05939164\n",
      " 0.31969044 0.46732587 0.08486862 0.04982601 0.29038903 0.18587074\n",
      " 0.17903164 0.14652082 0.41051698 0.5249336  0.31872642 0.18798563\n",
      " 0.70727044 0.09197041 0.13525562 0.15401615 0.07088356 0.21761009\n",
      " 0.0613907  0.48331064 0.41549754 0.1993692  0.3904587  0.10832876\n",
      " 0.11856581 0.15111475 0.2587401  0.49849808 0.06091272 0.06087526\n",
      " 0.05368286 0.53977495 0.03420991 0.08486862 0.12024894 0.04400711\n",
      " 0.16409227 0.03129065 0.06091272 0.03341989 0.03389604 0.09878962\n",
      " 0.0848069  0.40067917 0.05939164 0.03511679 0.20300463 0.2713916\n",
      " 0.2019519  0.507852   0.14889495 0.05106227 0.10428967 0.46299613\n",
      " 0.30381092 0.03389604 0.0163662  0.01200706 0.54580307 0.21673037\n",
      " 0.6025286  0.09401972 0.05871914 0.30931905 0.15111475 0.10912561\n",
      " 0.10015241 0.0731431  0.11992601 0.12690812 0.52960426 0.13307357\n",
      " 0.5755168  0.09216825 0.17625342 0.21799138 0.1280826  0.06251182\n",
      " 0.5823155  0.5319837  0.1889397  0.2565314  0.18405746 0.4424413\n",
      " 0.08306441 0.06091272 0.18276532 0.45015734 0.08887839 0.14439881\n",
      " 0.11098332 0.22195628 0.22669871 0.04944904 0.6451238  0.10904931\n",
      " 0.06099675 0.4747598  0.06100437 0.04177245 0.03420991 0.6397751\n",
      " 0.03228337 0.1107652  0.47742578 0.06100437 0.09944868 0.15849462\n",
      " 0.09767225 0.44365054 0.12971722 0.65695    0.1259136  0.4602052\n",
      " 0.50409037 0.33240458 0.31429985 0.18603837 0.5383717  0.05467336\n",
      " 0.4395998  0.14685342 0.11440294 0.43593252 0.5122103  0.27747005\n",
      " 0.08506446 0.09807088 0.1615067  0.06599487 0.20923541 0.63507515\n",
      " 0.5316297  0.14122003 0.08486862 0.03032708 0.15884964 0.06091272\n",
      " 0.09398293 0.2593543  0.13711879 0.12576889 0.06100437 0.04938692\n",
      " 0.00999553 0.30204907 0.18326984 0.1285122  0.17744754 0.21147431\n",
      " 0.14833783 0.5237186  0.16281618 0.04949271 0.37304267 0.588294\n",
      " 0.08741186 0.39181796 0.06439202 0.55164    0.04396516 0.41158018\n",
      " 0.1110612  0.06091272 0.04025547 0.53131396 0.01925251 0.07749704\n",
      " 0.15154648 0.11183244 0.43757725 0.00558667 0.06099675 0.39520952\n",
      " 0.33396062 0.0605495  0.47643575 0.02378974 0.17673211 0.0763911\n",
      " 0.05759399 0.40775493 0.3827095  0.74845845 0.09861846 0.05903727\n",
      " 0.22659488 0.08486862 0.04140761 0.4513184  0.06294148 0.2319336\n",
      " 0.4634353  0.13520163 0.13169548 0.43637076 0.17095433 0.11720023\n",
      " 0.20412664 0.08711147 0.02141353 0.625594   0.07960299 0.08482737\n",
      " 0.02410366 0.01390866 0.27079824 0.03681704 0.3436919  0.21761009\n",
      " 0.04949271 0.17705576 0.16379547 0.12821417 0.12648532 0.58342844\n",
      " 0.3844639  0.4550618  0.40067917 0.47287756 0.13711879 0.09537081\n",
      " 0.05992687 0.14630887 0.0605495  0.40166298 0.1254207  0.12879454\n",
      " 0.24049757 0.4641762  0.0605495  0.16455957 0.19842213 0.48805353\n",
      " 0.59311825 0.03055837 0.12400138 0.03830085 0.10725113 0.4495708\n",
      " 0.18299298 0.06033131 0.02531248 0.5400734  0.2897018  0.46022257\n",
      " 0.00501789 0.12381686 0.03389604 0.14637637 0.09137276 0.25834167\n",
      " 0.14240761 0.7156398  0.12989876 0.5367837  0.14896217 0.28035054\n",
      " 0.06753825 0.3076144  0.30396327 0.17672372 0.14674836 0.58735603\n",
      " 0.47196114 0.41497707 0.4550618  0.07732258 0.07561185 0.02381583\n",
      " 0.02378974 0.12845273 0.5110538  0.02659855 0.59540033 0.19024627\n",
      " 0.25122103 0.10955428 0.06602225 0.14370874 0.06685296 0.14411211\n",
      " 0.59585685 0.09703707 0.53637135 0.2565314  0.37074962 0.07608828\n",
      " 0.02231542 0.13321984 0.68827546 0.18648337 0.17991589 0.04637353\n",
      " 0.5064319  0.12188623 0.09821483 0.02643498 0.4699128  0.13905099\n",
      " 0.23639737 0.12846766 0.3149372  0.11069202 0.6263185  0.34376398\n",
      " 0.03389604 0.19842213 0.19842213 0.1572944  0.09221651 0.7260581\n",
      " 0.0605495  0.0605495  0.33027324 0.5154676  0.5779011  0.17581482\n",
      " 0.0532547  0.24054818 0.26830742 0.19371735 0.4845972  0.07387567\n",
      " 0.46663195 0.347593   0.05510873 0.10089631 0.4028956  0.42733952\n",
      " 0.06693784 0.22469458 0.04400711 0.62434155 0.1259136  0.02784031\n",
      " 0.11459371 0.5934769  0.17177133 0.5508091  0.42727894 0.11577743\n",
      " 0.21692583 0.05183424 0.11300403 0.01843206 0.02219058 0.06099675\n",
      " 0.04592695 0.14593025 0.08486862 0.46472692 0.08483776 0.7522386\n",
      " 0.28194454 0.55721164 0.3435019  0.12576844 0.07772896 0.07966053\n",
      " 0.20914845 0.31906503 0.4003413  0.50849885 0.08486862 0.41671026\n",
      " 0.262133   0.33282006 0.08620029 0.06590892 0.17243546 0.09051146\n",
      " 0.05620384 0.20913963 0.09821483 0.2403413  0.4963681  0.37051156\n",
      " 0.06554452 0.05233485 0.0156316  0.21582848 0.06590892 0.5204453\n",
      " 0.079522   0.12167067 0.06679015 0.3479284  0.05636536 0.03681704\n",
      " 0.15265937 0.28617084 0.02408682 0.29693148 0.5424834  0.08073271\n",
      " 0.01702438 0.15407252 0.36355463 0.08291329 0.4550618  0.43679225\n",
      " 0.08486862 0.57994366 0.31574398 0.4362651  0.06100437 0.10039471\n",
      " 0.15600733 0.522296   0.12880835 0.06091272 0.43602648 0.31033838\n",
      " 0.12753104 0.23619917 0.40768594 0.04179381 0.17625342 0.0265163\n",
      " 0.2185688  0.0423816  0.33005145 0.60874665 0.32250345 0.00213935\n",
      " 0.33214164 0.5046005  0.16648938 0.21006548 0.7111638  0.11363886\n",
      " 0.17626695 0.06100437 0.03506948 0.1833506  0.17550223 0.262133\n",
      " 0.1941906  0.08000886 0.22221756 0.4869777  0.07294519 0.3414037\n",
      " 0.07960299 0.42188585 0.05485596 0.02033206 0.2780874  0.24490713\n",
      " 0.16056943 0.13711879 0.0605495  0.52718574 0.37066752 0.04654373\n",
      " 0.21399921 0.11615442 0.07772896 0.11448459 0.16211355 0.5213479\n",
      " 0.1742282  0.3947419  0.06964034]\n"
     ]
    }
   ],
   "source": [
    "# Calculate predictions: predictions\n",
    "predictions = model.predict(predictors)\n",
    "\n",
    "# Calculate predicted probability of survival: predicted_prob_true\n",
    "predicted_prob_true = predictions[:,1]\n",
    "\n",
    "# print predicted_prob_true\n",
    "print(predicted_prob_true)"
   ]
  },
  {
   "cell_type": "markdown",
   "metadata": {},
   "source": [
    "# 4)Fine-tuning keras models\n",
    "\n",
    "Learn how to optimize your deep learning models in Keras. Start by learning how to validate your models, then understand the concept of model capacity, and finally, experiment with wider and deeper networks."
   ]
  },
  {
   "cell_type": "markdown",
   "metadata": {},
   "source": [
    "## Changing optimization parameters\n",
    "It's time to get your hands dirty with optimization. You'll now try optimizing a model at a very low learning rate, a very high learning rate, and a \"just right\" learning rate. You'll want to look at the results after running this exercise, remembering that a low value for the loss function is good.\n",
    "\n",
    "For these exercises, we've pre-loaded the predictors and target values from your previous classification models (predicting who would survive on the Titanic). You'll want the optimization to start from scratch every time you change the learning rate, to give a fair comparison of how each learning rate did in your results. So we have created a function get_new_model() that creates an unoptimized model to optimize."
   ]
  },
  {
   "cell_type": "code",
   "execution_count": 155,
   "metadata": {},
   "outputs": [
    {
     "name": "stdout",
     "output_type": "stream",
     "text": [
      "\n",
      "\n",
      "Testing model with learning rate: 0.000001\n",
      "\n",
      "Epoch 1/10\n",
      "891/891 [==============================] - 0s 117us/step - loss: 6.3037\n",
      "Epoch 2/10\n",
      "891/891 [==============================] - 0s 58us/step - loss: 6.2672\n",
      "Epoch 3/10\n",
      "891/891 [==============================] - 0s 54us/step - loss: 6.2309\n",
      "Epoch 4/10\n",
      "891/891 [==============================] - 0s 54us/step - loss: 6.1945\n",
      "Epoch 5/10\n",
      "891/891 [==============================] - 0s 54us/step - loss: 6.1581\n",
      "Epoch 6/10\n",
      "891/891 [==============================] - 0s 54us/step - loss: 6.1217\n",
      "Epoch 7/10\n",
      "891/891 [==============================] - 0s 49us/step - loss: 6.0855\n",
      "Epoch 8/10\n",
      "891/891 [==============================] - 0s 54us/step - loss: 6.0495\n",
      "Epoch 9/10\n",
      "891/891 [==============================] - 0s 63us/step - loss: 6.0133\n",
      "Epoch 10/10\n",
      "891/891 [==============================] - 0s 58us/step - loss: 5.9772\n",
      "\n",
      "\n",
      "Testing model with learning rate: 0.010000\n",
      "\n",
      "Epoch 1/10\n",
      "891/891 [==============================] - 0s 117us/step - loss: 2.6312\n",
      "Epoch 2/10\n",
      "891/891 [==============================] - 0s 54us/step - loss: 0.7979\n",
      "Epoch 3/10\n",
      "891/891 [==============================] - 0s 63us/step - loss: 0.7010\n",
      "Epoch 4/10\n",
      "891/891 [==============================] - 0s 67us/step - loss: 0.6404\n",
      "Epoch 5/10\n",
      "891/891 [==============================] - ETA: 0s - loss: 0.606 - 0s 72us/step - loss: 0.6146\n",
      "Epoch 6/10\n",
      "891/891 [==============================] - 0s 76us/step - loss: 0.6054\n",
      "Epoch 7/10\n",
      "891/891 [==============================] - 0s 76us/step - loss: 0.6095\n",
      "Epoch 8/10\n",
      "891/891 [==============================] - 0s 67us/step - loss: 0.6104\n",
      "Epoch 9/10\n",
      "891/891 [==============================] - 0s 49us/step - loss: 0.6077\n",
      "Epoch 10/10\n",
      "891/891 [==============================] - 0s 54us/step - loss: 0.5949\n",
      "\n",
      "\n",
      "Testing model with learning rate: 1.000000\n",
      "\n",
      "Epoch 1/10\n",
      "891/891 [==============================] - 0s 121us/step - loss: 124.4117\n",
      "Epoch 2/10\n",
      "891/891 [==============================] - 0s 54us/step - loss: 0.6683\n",
      "Epoch 3/10\n",
      "891/891 [==============================] - 0s 54us/step - loss: 0.6702\n",
      "Epoch 4/10\n",
      "891/891 [==============================] - 0s 72us/step - loss: 0.6687\n",
      "Epoch 5/10\n",
      "891/891 [==============================] - 0s 76us/step - loss: 0.6766\n",
      "Epoch 6/10\n",
      "891/891 [==============================] - 0s 67us/step - loss: 0.6749\n",
      "Epoch 7/10\n",
      "891/891 [==============================] - 0s 72us/step - loss: 0.6746\n",
      "Epoch 8/10\n",
      "891/891 [==============================] - 0s 58us/step - loss: 0.6717\n",
      "Epoch 9/10\n",
      "891/891 [==============================] - 0s 54us/step - loss: 0.6711\n",
      "Epoch 10/10\n",
      "891/891 [==============================] - 0s 54us/step - loss: 0.6689\n"
     ]
    }
   ],
   "source": [
    "# Import the SGD optimizer\n",
    "from keras.optimizers import SGD\n",
    "\n",
    "# Create list of learning rates: lr_to_test\n",
    "lr_to_test = [0.000001, 0.01, 1]\n",
    "\n",
    "# Loop over learning rates\n",
    "for lr in lr_to_test:\n",
    "    print('\\n\\nTesting model with learning rate: %f\\n'%lr )\n",
    "    \n",
    "    # Build new model to test, unaffected by previous models\n",
    "    model = Sequential()\n",
    "    model.add(Dense(32, activation='relu', input_shape=(n_cols,)))\n",
    "\n",
    "    # Add the output layer\n",
    "    model.add(Dense(2, activation='softmax'))\n",
    "    \n",
    "    # Create SGD optimizer with specified learning rate: my_optimizer\n",
    "    my_optimizer = SGD(lr=lr)\n",
    "    \n",
    "    # Compile the model\n",
    "    model.compile(optimizer =my_optimizer,  loss='categorical_crossentropy')\n",
    "    \n",
    "    # Fit the model\n",
    "    model.fit(predictors, target, epochs=10)\n",
    "    "
   ]
  },
  {
   "cell_type": "markdown",
   "metadata": {},
   "source": [
    "## Evaluating model accuracy on validation dataset\n",
    "Now it's your turn to monitor model accuracy with a validation data set. A model definition has been provided as model. Your job is to add the code to compile it and then fit it. You'll check the validation score in each epoch."
   ]
  },
  {
   "cell_type": "code",
   "execution_count": 156,
   "metadata": {},
   "outputs": [
    {
     "name": "stdout",
     "output_type": "stream",
     "text": [
      "Train on 623 samples, validate on 268 samples\n",
      "Epoch 1/10\n",
      "623/623 [==============================] - 0s 385us/step - loss: 0.8708 - accuracy: 0.5859 - val_loss: 0.7451 - val_accuracy: 0.6866\n",
      "Epoch 2/10\n",
      "623/623 [==============================] - 0s 103us/step - loss: 0.6517 - accuracy: 0.6645 - val_loss: 0.5833 - val_accuracy: 0.7687\n",
      "Epoch 3/10\n",
      "623/623 [==============================] - 0s 90us/step - loss: 0.6792 - accuracy: 0.6709 - val_loss: 0.6053 - val_accuracy: 0.7164\n",
      "Epoch 4/10\n",
      "623/623 [==============================] - 0s 96us/step - loss: 0.6056 - accuracy: 0.7111 - val_loss: 0.6160 - val_accuracy: 0.7127\n",
      "Epoch 5/10\n",
      "623/623 [==============================] - 0s 90us/step - loss: 0.6148 - accuracy: 0.6934 - val_loss: 0.5306 - val_accuracy: 0.7948\n",
      "Epoch 6/10\n",
      "623/623 [==============================] - 0s 90us/step - loss: 0.6355 - accuracy: 0.6902 - val_loss: 0.5330 - val_accuracy: 0.7201\n",
      "Epoch 7/10\n",
      "623/623 [==============================] - 0s 109us/step - loss: 0.5880 - accuracy: 0.7239 - val_loss: 0.5342 - val_accuracy: 0.7612\n",
      "Epoch 8/10\n",
      "623/623 [==============================] - 0s 96us/step - loss: 0.6117 - accuracy: 0.7079 - val_loss: 0.4705 - val_accuracy: 0.7537\n",
      "Epoch 9/10\n",
      "623/623 [==============================] - 0s 83us/step - loss: 0.5468 - accuracy: 0.7448 - val_loss: 0.4612 - val_accuracy: 0.7575\n",
      "Epoch 10/10\n",
      "623/623 [==============================] - 0s 103us/step - loss: 0.5360 - accuracy: 0.7335 - val_loss: 0.4665 - val_accuracy: 0.7948\n"
     ]
    }
   ],
   "source": [
    "# Save the number of columns in predictors: n_cols\n",
    "n_cols = predictors.shape[1]\n",
    "input_shape = (n_cols,)\n",
    "\n",
    "# Specify the model\n",
    "model = Sequential()\n",
    "model.add(Dense(100, activation='relu', input_shape = input_shape))\n",
    "model.add(Dense(100, activation='relu'))\n",
    "model.add(Dense(2, activation='softmax'))\n",
    "\n",
    "# Compile the model\n",
    "model.compile(optimizer='adam', loss='categorical_crossentropy', metrics=['accuracy'])\n",
    "\n",
    "# Fit the model\n",
    "hist = model.fit(predictors, target, validation_split=0.3, epochs=10)\n"
   ]
  },
  {
   "cell_type": "markdown",
   "metadata": {},
   "source": [
    "## Early stopping: Optimizing the optimization\n",
    "Now that you know how to monitor your model performance throughout optimization, you can use early stopping to stop optimization when it isn't helping any more. Since the optimization stops automatically when it isn't helping, you can also set a high value for epochs in your call to .fit(), as Dan showed in the video.\n",
    "\n",
    "The model you'll optimize has been specified as model. As before, the data is pre-loaded as predictors and target."
   ]
  },
  {
   "cell_type": "code",
   "execution_count": 157,
   "metadata": {},
   "outputs": [
    {
     "name": "stdout",
     "output_type": "stream",
     "text": [
      "Train on 623 samples, validate on 268 samples\n",
      "Epoch 1/30\n",
      "623/623 [==============================] - 0s 385us/step - loss: 0.9284 - accuracy: 0.5923 - val_loss: 0.6506 - val_accuracy: 0.6791\n",
      "Epoch 2/30\n",
      "623/623 [==============================] - 0s 83us/step - loss: 0.6915 - accuracy: 0.6613 - val_loss: 0.5404 - val_accuracy: 0.7351\n",
      "Epoch 3/30\n",
      "623/623 [==============================] - 0s 83us/step - loss: 0.6391 - accuracy: 0.6581 - val_loss: 0.6254 - val_accuracy: 0.6940\n",
      "Epoch 4/30\n",
      "623/623 [==============================] - 0s 90us/step - loss: 0.6684 - accuracy: 0.6629 - val_loss: 0.7066 - val_accuracy: 0.6978\n"
     ]
    },
    {
     "data": {
      "text/plain": [
       "<keras.callbacks.callbacks.History at 0x248f4288a48>"
      ]
     },
     "execution_count": 157,
     "metadata": {},
     "output_type": "execute_result"
    }
   ],
   "source": [
    "# Import EarlyStopping\n",
    "from keras.callbacks import EarlyStopping\n",
    "\n",
    "# Save the number of columns in predictors: n_cols\n",
    "n_cols = predictors.shape[1]\n",
    "input_shape = (n_cols,)\n",
    "\n",
    "# Specify the model\n",
    "model = Sequential()\n",
    "model.add(Dense(100, activation='relu', input_shape = input_shape))\n",
    "model.add(Dense(100, activation='relu'))\n",
    "model.add(Dense(2, activation='softmax'))\n",
    "\n",
    "# Compile the model\n",
    "model.compile(optimizer='adam', loss='categorical_crossentropy', metrics=['accuracy'])\n",
    "\n",
    "# Define early_stopping_monitor\n",
    "early_stopping_monitor = EarlyStopping(patience=2)\n",
    "\n",
    "# Fit the model\n",
    "model.fit(predictors, target, epochs=30, validation_split=0.3, callbacks=[early_stopping_monitor])"
   ]
  },
  {
   "cell_type": "markdown",
   "metadata": {},
   "source": [
    "## Experimenting with wider networks\n",
    "Now you know everything you need to begin experimenting with different models!\n",
    "\n",
    "A model called model_1 has been pre-loaded. You can see a summary of this model printed in the IPython Shell. This is a relatively small network, with only 10 units in each hidden layer.\n",
    "\n",
    "In this exercise you'll create a new model called model_2 which is similar to model_1, except it has 100 units in each hidden layer.\n",
    "\n",
    "After you create model_2, both models will be fitted, and a graph showing both models loss score at each epoch will be shown. We added the argument verbose=False in the fitting commands to print out fewer updates, since you will look at these graphically instead of as text.\n",
    "\n",
    "Because you are fitting two models, it will take a moment to see the outputs after you hit run, so be patient."
   ]
  },
  {
   "cell_type": "code",
   "execution_count": 159,
   "metadata": {},
   "outputs": [
    {
     "data": {
      "image/png": "[encoded data removed]",
      "text/plain": [
       "<Figure size 432x288 with 1 Axes>"
      ]
     },
     "metadata": {
      "needs_background": "light"
     },
     "output_type": "display_data"
    }
   ],
   "source": [
    "# Define early_stopping_monitor\n",
    "early_stopping_monitor = EarlyStopping(patience=2)\n",
    "\n",
    "# Create the new model: model_2\n",
    "model_2 = Sequential()\n",
    "\n",
    "# Add the first and second layers\n",
    "model_2.add(Dense(100, activation='relu', input_shape=input_shape))\n",
    "model_2.add(Dense(100, activation='relu'))\n",
    "\n",
    "# Add the output layer\n",
    "model_2.add(Dense(2, activation='softmax'))\n",
    "\n",
    "# Compile model_2\n",
    "model_2.compile(optimizer='adam', loss='categorical_crossentropy', metrics=['accuracy'])\n",
    "\n",
    "# Fit model_1\n",
    "model_1_training = model.fit(predictors, target, epochs=15, validation_split=0.2, callbacks=[early_stopping_monitor], verbose=False)\n",
    "\n",
    "# Fit model_2\n",
    "model_2_training = model_2.fit(predictors, target, epochs=15, validation_split=0.2, callbacks=[early_stopping_monitor], verbose=False)\n",
    "\n",
    "# Create the plot\n",
    "plt.plot(model_1_training.history['val_loss'], 'r', model_2_training.history['val_loss'], 'b')\n",
    "plt.xlabel('Epochs')\n",
    "plt.ylabel('Validation score')\n",
    "plt.show()\n"
   ]
  },
  {
   "cell_type": "markdown",
   "metadata": {},
   "source": [
    "## Adding layers to a network\n",
    "You've seen how to experiment with wider networks. In this exercise, you'll try a deeper network (more hidden layers).\n",
    "\n",
    "Once again, you have a baseline model called model_1 as a starting point. It has 1 hidden layer, with 50 units. You can see a summary of that model's structure printed out. You will create a similar network with 3 hidden layers (still keeping 50 units in each layer).\n",
    "\n",
    "This will again take a moment to fit both models, so you'll need to wait a few seconds to see the results after you run your code."
   ]
  },
  {
   "cell_type": "code",
   "execution_count": null,
   "metadata": {},
   "outputs": [],
   "source": [
    "# The input shape to use in the first hidden layer\n",
    "input_shape = (n_cols,)\n",
    "\n",
    "# Create the new model: model_2\n",
    "model_2 = Sequential()\n",
    "\n",
    "# Add the first, second, and third hidden layers\n",
    "model_2.add(Dense(50, activation='relu', input_shape=input_shape))\n",
    "model_2.add(Dense(50, activation='relu'))\n",
    "model_2.add(Dense(50, activation='relu'))\n",
    "\n",
    "# Add the output layer\n",
    "model_2.add(Dense(2, activation='softmax'))\n",
    "\n",
    "# Compile model_2\n",
    "model_2.compile(optimizer='adam', loss='categorical_crossentropy', metrics=['accuracy'])\n",
    "\n",
    "# Fit model 1\n",
    "model_1_training = model_1.fit(predictors, target, epochs=20, validation_split=0.4, callbacks=[early_stopping_monitor], verbose=False)\n",
    "\n",
    "# Fit model 2\n",
    "model_2_training = model_2.fit(predictors, target, epochs=20, validation_split=0.4, callbacks=[early_stopping_monitor], verbose=False)\n",
    "\n",
    "# Create the plot\n",
    "plt.plot(model_1_training.history['val_loss'], 'r', model_2_training.history['val_loss'], 'b')\n",
    "plt.xlabel('Epochs')\n",
    "plt.ylabel('Validation score')\n",
    "plt.show()\n"
   ]
  },
  {
   "cell_type": "markdown",
   "metadata": {},
   "source": [
    "## Building your own digit recognition model\n",
    "You've reached the final exercise of the course - you now know everything you need to build an accurate model to recognize handwritten digits!\n",
    "\n",
    "We've already done the basic manipulation of the MNIST dataset shown in the video, so you have X and y loaded and ready to model with. Sequential and Dense from keras are also pre-imported.\n",
    "\n",
    "To add an extra challenge, we've loaded only 2500 images, rather than 60000 which you will see in some published results. Deep learning models perform better with more data, however, they also take longer to train, especially when they start becoming more complex.\n",
    "\n",
    "If you have a computer with a CUDA compatible GPU, you can take advantage of it to improve computation time. If you don't have a GPU, no problem! You can set up a deep learning environment in the cloud that can run your models on a GPU. Here is a blog post by Dan that explains how to do this - check it out after completing this exercise! It is a great next step as you continue your deep learning journey.\n",
    "\n",
    "Ready to take your deep learning to the next level? Check out Advanced Deep Learning with Keras in Python to see how the Keras functional API lets you build domain knowledge to solve new types of problems. Once you know how to use the functional API, take a look at \"Convolutional Neural Networks for Image Processing\" to learn image-specific applications of Keras."
   ]
  },
  {
   "cell_type": "code",
   "execution_count": null,
   "metadata": {},
   "outputs": [],
   "source": [
    "# Create the model: model\n",
    "model = Sequential()\n",
    "\n",
    "# Add the first hidden layer\n",
    "model.add(Dense(50, activation='relu', input_shape=(784,)))\n",
    "\n",
    "# Add the second hidden layer\n",
    "model.add(Dense(50, activation='relu'))\n",
    "\n",
    "# Add the output layer\n",
    "model.add(Dense(10, activation='softmax'))\n",
    "\n",
    "# Compile the model\n",
    "model.compile(optimizer='adam', loss='categorical_crossentropy', metrics=['accuracy'])\n",
    "\n",
    "# Fit the model\n",
    "model.fit(X, y, validation_split=0.3)\n"
   ]
  },
  {
   "cell_type": "markdown",
   "metadata": {},
   "source": []
  }
 ],
 "metadata": {
  "kernelspec": {
   "display_name": "Python 3",
   "language": "python",
   "name": "python3"
  },
  "language_info": {
   "codemirror_mode": {
    "name": "ipython",
    "version": 3
   },
   "file_extension": ".py",
   "mimetype": "text/x-python",
   "name": "python",
   "nbconvert_exporter": "python",
   "pygments_lexer": "ipython3",
   "version": "3.7.5"
  }
 },
 "nbformat": 4,
 "nbformat_minor": 2
}

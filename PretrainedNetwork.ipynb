{
  "nbformat": 4,
  "nbformat_minor": 0,
  "metadata": {
    "colab": {
      "name": "PretrainedNetwork.ipynb",
      "provenance": [],
      "authorship_tag": "ABX9TyOxBFi3kViIazf2duxS8UQk",
      "include_colab_link": true
    },
    "kernelspec": {
      "name": "python3",
      "display_name": "Python 3"
    }
  },
  "cells": [
    {
      "cell_type": "markdown",
      "metadata": {
        "id": "view-in-github",
        "colab_type": "text"
      },
      "source": [
        "<a href=\"https://colab.research.google.com/github/Basit-Imam/DeepLearning/blob/master/PretrainedNetwork.ipynb\" target=\"_parent\"><img src=\"https://colab.research.google.com/assets/colab-badge.svg\" alt=\"Open In Colab\"/></a>"
      ]
    },
    {
      "cell_type": "code",
      "metadata": {
        "id": "wMvVmm8uyyqD",
        "colab_type": "code",
        "colab": {
          "base_uri": "https://localhost:8080/",
          "height": 34
        },
        "outputId": "e5386cc0-f363-429e-c6ea-231ff284d58c"
      },
      "source": [
        "import numpy as np\n",
        "from keras.preprocessing import image\n",
        "from keras.applications import vgg16"
      ],
      "execution_count": 1,
      "outputs": [
        {
          "output_type": "stream",
          "text": [
            "Using TensorFlow backend.\n"
          ],
          "name": "stderr"
        }
      ]
    },
    {
      "cell_type": "markdown",
      "metadata": {
        "id": "9D5BeO2ozLs9",
        "colab_type": "text"
      },
      "source": [
        "Load keras' VGG16 model that was pretrained against the ImageNet database"
      ]
    },
    {
      "cell_type": "code",
      "metadata": {
        "id": "JMSXBx55zCoY",
        "colab_type": "code",
        "colab": {}
      },
      "source": [
        "model = vgg16.VGG16()"
      ],
      "execution_count": 3,
      "outputs": []
    },
    {
      "cell_type": "code",
      "metadata": {
        "id": "uVX2ho_e09P7",
        "colab_type": "code",
        "colab": {}
      },
      "source": [
        "img = image.load_img(\"bay.jpg\", target_size=(224, 224))"
      ],
      "execution_count": 7,
      "outputs": []
    },
    {
      "cell_type": "code",
      "metadata": {
        "id": "3Ehv6Xd014EJ",
        "colab_type": "code",
        "colab": {}
      },
      "source": [
        "x = image.img_to_array(img)"
      ],
      "execution_count": 8,
      "outputs": []
    },
    {
      "cell_type": "code",
      "metadata": {
        "id": "OH5-aanN2Bj2",
        "colab_type": "code",
        "colab": {}
      },
      "source": [
        "x = np.expand_dims(x , axis=0)"
      ],
      "execution_count": 9,
      "outputs": []
    },
    {
      "cell_type": "markdown",
      "metadata": {
        "id": "pIujgstN2Sco",
        "colab_type": "text"
      },
      "source": [
        "Normalize the input image pixel value"
      ]
    },
    {
      "cell_type": "code",
      "metadata": {
        "id": "nNbeWz7i2HG4",
        "colab_type": "code",
        "colab": {}
      },
      "source": [
        "x = vgg16.preprocess_input(x)"
      ],
      "execution_count": 11,
      "outputs": []
    },
    {
      "cell_type": "code",
      "metadata": {
        "id": "a368ehoo2b4L",
        "colab_type": "code",
        "colab": {}
      },
      "source": [
        "predictions = model.predict(x)"
      ],
      "execution_count": 12,
      "outputs": []
    },
    {
      "cell_type": "code",
      "metadata": {
        "id": "ebN-tSPk2onj",
        "colab_type": "code",
        "colab": {
          "base_uri": "https://localhost:8080/",
          "height": 51
        },
        "outputId": "f75d8a54-e5b1-4fd0-ab03-bd7ea46d4102"
      },
      "source": [
        "predicted_classes = vgg16.decode_predictions(predictions, top=9)"
      ],
      "execution_count": 13,
      "outputs": [
        {
          "output_type": "stream",
          "text": [
            "Downloading data from https://storage.googleapis.com/download.tensorflow.org/data/imagenet_class_index.json\n",
            "40960/35363 [==================================] - 0s 0us/step\n"
          ],
          "name": "stdout"
        }
      ]
    },
    {
      "cell_type": "code",
      "metadata": {
        "id": "pTFg9u2f2yrZ",
        "colab_type": "code",
        "colab": {
          "base_uri": "https://localhost:8080/",
          "height": 187
        },
        "outputId": "04c580df-bdff-441b-b118-f38478bfa4a8"
      },
      "source": [
        "print(\"Top predictions for this image: \")\n",
        "for imagenet_id, name, likelihood in predicted_classes[0]:\n",
        "  print(\"Prediction: {} - {:2f}\".format(name, likelihood))"
      ],
      "execution_count": 14,
      "outputs": [
        {
          "output_type": "stream",
          "text": [
            "Top predictions for this image: \n",
            "Prediction: dock - 0.831977\n",
            "Prediction: pirate - 0.078128\n",
            "Prediction: lakeside - 0.030968\n",
            "Prediction: boathouse - 0.016961\n",
            "Prediction: seashore - 0.011470\n",
            "Prediction: schooner - 0.004839\n",
            "Prediction: gondola - 0.003515\n",
            "Prediction: pier - 0.003128\n",
            "Prediction: breakwater - 0.002286\n"
          ],
          "name": "stdout"
        }
      ]
    },
    {
      "cell_type": "code",
      "metadata": {
        "id": "oLSqd-Wm3JSX",
        "colab_type": "code",
        "colab": {}
      },
      "source": [
        ""
      ],
      "execution_count": null,
      "outputs": []
    }
  ]
}
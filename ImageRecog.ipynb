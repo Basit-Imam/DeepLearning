{
  "nbformat": 4,
  "nbformat_minor": 0,
  "metadata": {
    "colab": {
      "name": "ImageRecog.ipynb",
      "provenance": [],
      "collapsed_sections": [],
      "toc_visible": true,
      "authorship_tag": "ABX9TyP3KRWtokHXBYfTrO4zRYZf",
      "include_colab_link": true
    },
    "kernelspec": {
      "name": "python3",
      "display_name": "Python 3"
    }
  },
  "cells": [
    {
      "cell_type": "markdown",
      "metadata": {
        "id": "view-in-github",
        "colab_type": "text"
      },
      "source": [
        "<a href=\"https://colab.research.google.com/github/Basit-Imam/DeepLearning/blob/master/ImageRecog.ipynb\" target=\"_parent\"><img src=\"https://colab.research.google.com/assets/colab-badge.svg\" alt=\"Open In Colab\"/></a>"
      ]
    },
    {
      "cell_type": "code",
      "metadata": {
        "id": "sbh0hwUsFx-L",
        "colab_type": "code",
        "colab": {}
      },
      "source": [
        "import keras"
      ],
      "execution_count": null,
      "outputs": []
    },
    {
      "cell_type": "code",
      "metadata": {
        "id": "haRqtXjWF4Al",
        "colab_type": "code",
        "colab": {
          "base_uri": "https://localhost:8080/",
          "height": 34
        },
        "outputId": "6711217e-eee6-4eab-9deb-a5e321b9d43a"
      },
      "source": [
        "from keras.datasets import cifar10\n",
        "from keras.models import Sequential\n",
        "from keras.layers import Dense, Dropout, Flatten, Conv2D, MaxPooling2D\n",
        "from pathlib import Path\n",
        "import numpy as np"
      ],
      "execution_count": null,
      "outputs": [
        {
          "output_type": "stream",
          "text": [
            "Using TensorFlow backend.\n"
          ],
          "name": "stderr"
        }
      ]
    },
    {
      "cell_type": "code",
      "metadata": {
        "id": "czZ0gjREF-QG",
        "colab_type": "code",
        "colab": {
          "base_uri": "https://localhost:8080/",
          "height": 51
        },
        "outputId": "76d60e49-f2c3-49f3-f0a8-e72a473b1966"
      },
      "source": [
        "(X_train, y_train), (x_test, y_test) = cifar10.load_data()"
      ],
      "execution_count": null,
      "outputs": [
        {
          "output_type": "stream",
          "text": [
            "Downloading data from https://www.cs.toronto.edu/~kriz/cifar-10-python.tar.gz\n",
            "170500096/170498071 [==============================] - 2s 0us/step\n"
          ],
          "name": "stdout"
        }
      ]
    },
    {
      "cell_type": "code",
      "metadata": {
        "id": "-qRpFR8SGAju",
        "colab_type": "code",
        "colab": {}
      },
      "source": [
        "X_train = X_train.astype(\"float32\")\n",
        "x_test = x_test.astype(\"float32\")\n",
        "X_train /= 255\n",
        "x_test /=255"
      ],
      "execution_count": null,
      "outputs": []
    },
    {
      "cell_type": "code",
      "metadata": {
        "id": "GS96MqGrGFn4",
        "colab_type": "code",
        "colab": {}
      },
      "source": [
        "y_train = keras.utils.to_categorical(y_train, 10)\n",
        "y_test = keras.utils.to_categorical(y_test, 10)"
      ],
      "execution_count": null,
      "outputs": []
    },
    {
      "cell_type": "code",
      "metadata": {
        "id": "2Cw-VP2yGH0m",
        "colab_type": "code",
        "colab": {}
      },
      "source": [
        "model = Sequential()\n",
        "model.add(Conv2D(32, (3, 3), padding='same', activation = 'relu', input_shape=(32, 32, 3)))\n",
        "model.add(Conv2D(32, (3, 3), activation = 'relu'))\n",
        "model.add(MaxPooling2D(pool_size=(2, 2)))\n",
        "model.add(Dropout(0.25))\n",
        "\n",
        "model.add(Conv2D(64, (3, 3), padding = 'same', activation = 'relu'))\n",
        "model.add(Conv2D(64, (3, 3), activation = 'relu'))\n",
        "model.add(MaxPooling2D(pool_size=(2, 2)))\n",
        "model.add(Dropout(0.25))\n",
        "\n",
        "model.add(Flatten())\n",
        "model.add(Dense(512, activation = 'relu'))\n",
        "model.add(Dropout(0.50))\n",
        "model.add(Dense(10, activation = 'softmax'))"
      ],
      "execution_count": null,
      "outputs": []
    },
    {
      "cell_type": "code",
      "metadata": {
        "id": "QlYkCL99GJy7",
        "colab_type": "code",
        "colab": {
          "base_uri": "https://localhost:8080/",
          "height": 561
        },
        "outputId": "55843d0a-5f64-4fe3-b4e7-650ea75759e7"
      },
      "source": [
        "model.summary()"
      ],
      "execution_count": null,
      "outputs": [
        {
          "output_type": "stream",
          "text": [
            "Model: \"sequential_1\"\n",
            "_________________________________________________________________\n",
            "Layer (type)                 Output Shape              Param #   \n",
            "=================================================================\n",
            "conv2d_1 (Conv2D)            (None, 32, 32, 32)        896       \n",
            "_________________________________________________________________\n",
            "conv2d_2 (Conv2D)            (None, 30, 30, 32)        9248      \n",
            "_________________________________________________________________\n",
            "max_pooling2d_1 (MaxPooling2 (None, 15, 15, 32)        0         \n",
            "_________________________________________________________________\n",
            "dropout_1 (Dropout)          (None, 15, 15, 32)        0         \n",
            "_________________________________________________________________\n",
            "conv2d_3 (Conv2D)            (None, 15, 15, 64)        18496     \n",
            "_________________________________________________________________\n",
            "conv2d_4 (Conv2D)            (None, 13, 13, 64)        36928     \n",
            "_________________________________________________________________\n",
            "max_pooling2d_2 (MaxPooling2 (None, 6, 6, 64)          0         \n",
            "_________________________________________________________________\n",
            "dropout_2 (Dropout)          (None, 6, 6, 64)          0         \n",
            "_________________________________________________________________\n",
            "flatten_1 (Flatten)          (None, 2304)              0         \n",
            "_________________________________________________________________\n",
            "dense_1 (Dense)              (None, 512)               1180160   \n",
            "_________________________________________________________________\n",
            "dropout_3 (Dropout)          (None, 512)               0         \n",
            "_________________________________________________________________\n",
            "dense_2 (Dense)              (None, 10)                5130      \n",
            "=================================================================\n",
            "Total params: 1,250,858\n",
            "Trainable params: 1,250,858\n",
            "Non-trainable params: 0\n",
            "_________________________________________________________________\n"
          ],
          "name": "stdout"
        }
      ]
    },
    {
      "cell_type": "code",
      "metadata": {
        "id": "zZChvhc7GL60",
        "colab_type": "code",
        "colab": {}
      },
      "source": [
        "model.compile(loss = \"categorical_crossentropy\", optimizer=\"adam\", metrics=[\"accuracy\"])"
      ],
      "execution_count": null,
      "outputs": []
    },
    {
      "cell_type": "code",
      "metadata": {
        "id": "O_YBMSgdGRsL",
        "colab_type": "code",
        "colab": {
          "base_uri": "https://localhost:8080/",
          "height": 411
        },
        "outputId": "3b7a2662-6618-4d5f-c527-21b749a524d1"
      },
      "source": [
        "model.fit(X_train, y_train, batch_size=32, epochs=10, validation_data=(x_test, y_test), shuffle=True)"
      ],
      "execution_count": null,
      "outputs": [
        {
          "output_type": "stream",
          "text": [
            "Train on 50000 samples, validate on 10000 samples\n",
            "Epoch 1/10\n",
            "50000/50000 [==============================] - 251s 5ms/step - loss: 1.5009 - accuracy: 0.4554 - val_loss: 1.1408 - val_accuracy: 0.5954\n",
            "Epoch 2/10\n",
            "50000/50000 [==============================] - 252s 5ms/step - loss: 1.1366 - accuracy: 0.5972 - val_loss: 0.9780 - val_accuracy: 0.6581\n",
            "Epoch 3/10\n",
            "50000/50000 [==============================] - 250s 5ms/step - loss: 0.9836 - accuracy: 0.6540 - val_loss: 0.8702 - val_accuracy: 0.7032\n",
            "Epoch 4/10\n",
            "50000/50000 [==============================] - 249s 5ms/step - loss: 0.8903 - accuracy: 0.6898 - val_loss: 0.7983 - val_accuracy: 0.7224\n",
            "Epoch 5/10\n",
            "50000/50000 [==============================] - 248s 5ms/step - loss: 0.8211 - accuracy: 0.7126 - val_loss: 0.7593 - val_accuracy: 0.7387\n",
            "Epoch 6/10\n",
            "50000/50000 [==============================] - 249s 5ms/step - loss: 0.7725 - accuracy: 0.7287 - val_loss: 0.7438 - val_accuracy: 0.7441\n",
            "Epoch 7/10\n",
            "50000/50000 [==============================] - 248s 5ms/step - loss: 0.7387 - accuracy: 0.7412 - val_loss: 0.6989 - val_accuracy: 0.7581\n",
            "Epoch 8/10\n",
            "50000/50000 [==============================] - 248s 5ms/step - loss: 0.7020 - accuracy: 0.7558 - val_loss: 0.7100 - val_accuracy: 0.7559\n",
            "Epoch 9/10\n",
            "50000/50000 [==============================] - 250s 5ms/step - loss: 0.6670 - accuracy: 0.7650 - val_loss: 0.6926 - val_accuracy: 0.7651\n",
            "Epoch 10/10\n",
            "50000/50000 [==============================] - 253s 5ms/step - loss: 0.6490 - accuracy: 0.7732 - val_loss: 0.6908 - val_accuracy: 0.7636\n"
          ],
          "name": "stdout"
        },
        {
          "output_type": "execute_result",
          "data": {
            "text/plain": [
              "<keras.callbacks.callbacks.History at 0x7f3a4c09e4a8>"
            ]
          },
          "metadata": {
            "tags": []
          },
          "execution_count": 11
        }
      ]
    },
    {
      "cell_type": "code",
      "metadata": {
        "id": "LoWYzltVGUv7",
        "colab_type": "code",
        "colab": {}
      },
      "source": [
        "class_labels = [\"Plane\", \"Car\", \"Bird\", \"Cat\", \"Deer\", \"Dog\", \"Frog\", \"Horse\", \"Boat\", \"Truck\"]"
      ],
      "execution_count": null,
      "outputs": []
    },
    {
      "cell_type": "code",
      "metadata": {
        "id": "QD4HphsbUTHk",
        "colab_type": "code",
        "colab": {}
      },
      "source": [
        "from keras.preprocessing import image\n",
        "img = image.load_img(\"cat.png\", target_size=(32,32))"
      ],
      "execution_count": null,
      "outputs": []
    },
    {
      "cell_type": "markdown",
      "metadata": {
        "id": "fSdEhoCfXaNT",
        "colab_type": "text"
      },
      "source": [
        "Convert the image into numpy array"
      ]
    },
    {
      "cell_type": "code",
      "metadata": {
        "id": "43o6bKTQVVlg",
        "colab_type": "code",
        "colab": {}
      },
      "source": [
        "image_to_test = image.img_to_array(img) / 255"
      ],
      "execution_count": null,
      "outputs": []
    },
    {
      "cell_type": "markdown",
      "metadata": {
        "id": "oNRpT5R9XLcE",
        "colab_type": "text"
      },
      "source": [
        "Add a fourth dimension to the image since keras  expects a list of images and not just single image"
      ]
    },
    {
      "cell_type": "code",
      "metadata": {
        "id": "ni8CLYUFXYoV",
        "colab_type": "code",
        "colab": {}
      },
      "source": [
        "list_of_images = np.expand_dims(image_to_test, axis=0)"
      ],
      "execution_count": null,
      "outputs": []
    },
    {
      "cell_type": "markdown",
      "metadata": {
        "id": "AnD6tHpjX56A",
        "colab_type": "text"
      },
      "source": [
        "Make a prediction using the model"
      ]
    },
    {
      "cell_type": "code",
      "metadata": {
        "id": "vioE4DuoYAGY",
        "colab_type": "code",
        "colab": {}
      },
      "source": [
        "results = model.predict(list_of_images)"
      ],
      "execution_count": null,
      "outputs": []
    },
    {
      "cell_type": "code",
      "metadata": {
        "id": "NkAfE0BIYKV9",
        "colab_type": "code",
        "colab": {}
      },
      "source": [
        "single_result = results[0]"
      ],
      "execution_count": null,
      "outputs": []
    },
    {
      "cell_type": "code",
      "metadata": {
        "id": "0q_8TqRfkxRU",
        "colab_type": "code",
        "colab": {}
      },
      "source": [
        "most_likely_class_index = int(np.argmax(single_result))"
      ],
      "execution_count": null,
      "outputs": []
    },
    {
      "cell_type": "code",
      "metadata": {
        "id": "OtOV1kDglNFp",
        "colab_type": "code",
        "colab": {
          "base_uri": "https://localhost:8080/",
          "height": 34
        },
        "outputId": "b1422f56-8af4-49f0-9bf8-25a0256314c5"
      },
      "source": [
        "most_likely_class_index"
      ],
      "execution_count": null,
      "outputs": [
        {
          "output_type": "execute_result",
          "data": {
            "text/plain": [
              "3"
            ]
          },
          "metadata": {
            "tags": []
          },
          "execution_count": 20
        }
      ]
    },
    {
      "cell_type": "code",
      "metadata": {
        "id": "aaA9yJJzlP4P",
        "colab_type": "code",
        "colab": {}
      },
      "source": [
        "class_likelihood = single_result[most_likely_class_index]"
      ],
      "execution_count": null,
      "outputs": []
    },
    {
      "cell_type": "code",
      "metadata": {
        "id": "QHBvW3CMtEXb",
        "colab_type": "code",
        "colab": {
          "base_uri": "https://localhost:8080/",
          "height": 34
        },
        "outputId": "3f8fb1bf-a8ac-4ac7-8196-201b2c7ebf09"
      },
      "source": [
        "class_likelihood"
      ],
      "execution_count": null,
      "outputs": [
        {
          "output_type": "execute_result",
          "data": {
            "text/plain": [
              "0.41866273"
            ]
          },
          "metadata": {
            "tags": []
          },
          "execution_count": 28
        }
      ]
    },
    {
      "cell_type": "code",
      "metadata": {
        "id": "hjxE5MQEjSzZ",
        "colab_type": "code",
        "colab": {}
      },
      "source": [
        "class_label = class_labels[most_likely_class_index]"
      ],
      "execution_count": null,
      "outputs": []
    },
    {
      "cell_type": "code",
      "metadata": {
        "id": "u2JemGvYjjGP",
        "colab_type": "code",
        "colab": {
          "base_uri": "https://localhost:8080/",
          "height": 34
        },
        "outputId": "92885cec-7b0a-449f-d34e-2e1629fb0b66"
      },
      "source": [
        "print(\"This is the image of a {} - likelihood :{:2f}\".format(class_label, class_likelihood))"
      ],
      "execution_count": null,
      "outputs": [
        {
          "output_type": "stream",
          "text": [
            "This is the image of a Cat - likelihood :0.418663\n"
          ],
          "name": "stdout"
        }
      ]
    },
    {
      "cell_type": "code",
      "metadata": {
        "id": "891_AEpnkCEf",
        "colab_type": "code",
        "colab": {}
      },
      "source": [
        ""
      ],
      "execution_count": null,
      "outputs": []
    }
  ]
}
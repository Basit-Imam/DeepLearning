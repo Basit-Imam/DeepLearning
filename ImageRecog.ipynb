{
  "nbformat": 4,
  "nbformat_minor": 0,
  "metadata": {
    "colab": {
      "name": "ImageRecog.ipynb",
      "provenance": [],
      "collapsed_sections": [],
      "toc_visible": true,
      "authorship_tag": "ABX9TyN324UOhFP/ZHb0meKlBov9",
      "include_colab_link": true
    },
    "kernelspec": {
      "name": "python3",
      "display_name": "Python 3"
    }
  },
  "cells": [
    {
      "cell_type": "markdown",
      "metadata": {
        "id": "view-in-github",
        "colab_type": "text"
      },
      "source": [
        "<a href=\"https://colab.research.google.com/github/Basit-Imam/DeepLearning/blob/master/ImageRecog.ipynb\" target=\"_parent\"><img src=\"https://colab.research.google.com/assets/colab-badge.svg\" alt=\"Open In Colab\"/></a>"
      ]
    },
    {
      "cell_type": "code",
      "metadata": {
        "id": "sbh0hwUsFx-L",
        "colab_type": "code",
        "colab": {}
      },
      "source": [
        "import keras"
      ],
      "execution_count": null,
      "outputs": []
    },
    {
      "cell_type": "code",
      "metadata": {
        "id": "haRqtXjWF4Al",
        "colab_type": "code",
        "colab": {}
      },
      "source": [
        "from keras.datasets import cifar10\n",
        "from keras.models import Sequential\n",
        "from keras.layers import Dense, Dropout, Flatten, Conv2D, MaxPooling2D\n",
        "from pathlib import Path\n",
        "import numpy as np"
      ],
      "execution_count": null,
      "outputs": []
    },
    {
      "cell_type": "code",
      "metadata": {
        "id": "czZ0gjREF-QG",
        "colab_type": "code",
        "colab": {
          "base_uri": "https://localhost:8080/",
          "height": 51
        },
        "outputId": "713a34bc-63b6-43ac-e549-a51dfe9138d0"
      },
      "source": [
        "(X_train, y_train), (x_test, y_test) = cifar10.load_data()"
      ],
      "execution_count": null,
      "outputs": [
        {
          "output_type": "stream",
          "text": [
            "Downloading data from https://www.cs.toronto.edu/~kriz/cifar-10-python.tar.gz\n",
            "170500096/170498071 [==============================] - 2s 0us/step\n"
          ],
          "name": "stdout"
        }
      ]
    },
    {
      "cell_type": "code",
      "metadata": {
        "id": "-qRpFR8SGAju",
        "colab_type": "code",
        "colab": {}
      },
      "source": [
        "X_train = X_train.astype(\"float32\")\n",
        "x_test = x_test.astype(\"float32\")\n",
        "X_train /= 255\n",
        "x_test /=255"
      ],
      "execution_count": null,
      "outputs": []
    },
    {
      "cell_type": "code",
      "metadata": {
        "id": "GS96MqGrGFn4",
        "colab_type": "code",
        "colab": {}
      },
      "source": [
        "y_train = keras.utils.to_categorical(y_train, 10)\n",
        "y_test = keras.utils.to_categorical(y_test, 10)"
      ],
      "execution_count": null,
      "outputs": []
    },
    {
      "cell_type": "code",
      "metadata": {
        "id": "2Cw-VP2yGH0m",
        "colab_type": "code",
        "colab": {}
      },
      "source": [
        "model = Sequential()\n",
        "model.add(Conv2D(32, (3, 3), padding='same', activation = 'relu', input_shape=(32, 32, 3)))\n",
        "model.add(Conv2D(32, (3, 3), activation = 'relu'))\n",
        "model.add(MaxPooling2D(pool_size=(2, 2)))\n",
        "model.add(Dropout(0.25))\n",
        "\n",
        "model.add(Conv2D(64, (3, 3), padding = 'same', activation = 'relu'))\n",
        "model.add(Conv2D(64, (3, 3), activation = 'relu'))\n",
        "model.add(MaxPooling2D(pool_size=(2, 2)))\n",
        "model.add(Dropout(0.25))\n",
        "\n",
        "model.add(Flatten())\n",
        "model.add(Dense(512, activation = 'relu'))\n",
        "model.add(Dropout(0.50))\n",
        "model.add(Dense(10, activation = 'softmax'))"
      ],
      "execution_count": null,
      "outputs": []
    },
    {
      "cell_type": "code",
      "metadata": {
        "id": "QlYkCL99GJy7",
        "colab_type": "code",
        "colab": {
          "base_uri": "https://localhost:8080/",
          "height": 561
        },
        "outputId": "5e3e980d-041f-464b-f0e7-cc9f0b526371"
      },
      "source": [
        "model.summary()"
      ],
      "execution_count": null,
      "outputs": [
        {
          "output_type": "stream",
          "text": [
            "Model: \"sequential_1\"\n",
            "_________________________________________________________________\n",
            "Layer (type)                 Output Shape              Param #   \n",
            "=================================================================\n",
            "conv2d_1 (Conv2D)            (None, 32, 32, 32)        896       \n",
            "_________________________________________________________________\n",
            "conv2d_2 (Conv2D)            (None, 30, 30, 32)        9248      \n",
            "_________________________________________________________________\n",
            "max_pooling2d_1 (MaxPooling2 (None, 15, 15, 32)        0         \n",
            "_________________________________________________________________\n",
            "dropout_1 (Dropout)          (None, 15, 15, 32)        0         \n",
            "_________________________________________________________________\n",
            "conv2d_3 (Conv2D)            (None, 15, 15, 64)        18496     \n",
            "_________________________________________________________________\n",
            "conv2d_4 (Conv2D)            (None, 13, 13, 64)        36928     \n",
            "_________________________________________________________________\n",
            "max_pooling2d_2 (MaxPooling2 (None, 6, 6, 64)          0         \n",
            "_________________________________________________________________\n",
            "dropout_2 (Dropout)          (None, 6, 6, 64)          0         \n",
            "_________________________________________________________________\n",
            "flatten_1 (Flatten)          (None, 2304)              0         \n",
            "_________________________________________________________________\n",
            "dense_1 (Dense)              (None, 512)               1180160   \n",
            "_________________________________________________________________\n",
            "dropout_3 (Dropout)          (None, 512)               0         \n",
            "_________________________________________________________________\n",
            "dense_2 (Dense)              (None, 10)                5130      \n",
            "=================================================================\n",
            "Total params: 1,250,858\n",
            "Trainable params: 1,250,858\n",
            "Non-trainable params: 0\n",
            "_________________________________________________________________\n"
          ],
          "name": "stdout"
        }
      ]
    },
    {
      "cell_type": "code",
      "metadata": {
        "id": "zZChvhc7GL60",
        "colab_type": "code",
        "colab": {}
      },
      "source": [
        "model.compile(loss = \"categorical_crossentropy\", optimizer=\"adam\", metrics=[\"accuracy\"])"
      ],
      "execution_count": null,
      "outputs": []
    },
    {
      "cell_type": "code",
      "metadata": {
        "id": "O_YBMSgdGRsL",
        "colab_type": "code",
        "colab": {
          "base_uri": "https://localhost:8080/",
          "height": 411
        },
        "outputId": "92aa0df9-c1ff-4194-d2bc-e7d3deb0308a"
      },
      "source": [
        "model.fit(X_train, y_train, batch_size=32, epochs=10, validation_data=(x_test, y_test), shuffle=True)"
      ],
      "execution_count": 22,
      "outputs": [
        {
          "output_type": "stream",
          "text": [
            "Train on 50000 samples, validate on 10000 samples\n",
            "Epoch 1/10\n",
            "50000/50000 [==============================] - 246s 5ms/step - loss: 1.5154 - accuracy: 0.4451 - val_loss: 1.1308 - val_accuracy: 0.5947\n",
            "Epoch 2/10\n",
            "50000/50000 [==============================] - 243s 5ms/step - loss: 1.1283 - accuracy: 0.5984 - val_loss: 0.9265 - val_accuracy: 0.6757\n",
            "Epoch 3/10\n",
            "50000/50000 [==============================] - 241s 5ms/step - loss: 0.9714 - accuracy: 0.6566 - val_loss: 0.8494 - val_accuracy: 0.7066\n",
            "Epoch 4/10\n",
            "50000/50000 [==============================] - 241s 5ms/step - loss: 0.8820 - accuracy: 0.6916 - val_loss: 0.8267 - val_accuracy: 0.7122\n",
            "Epoch 5/10\n",
            "50000/50000 [==============================] - 241s 5ms/step - loss: 0.8176 - accuracy: 0.7135 - val_loss: 0.7627 - val_accuracy: 0.7360\n",
            "Epoch 6/10\n",
            "50000/50000 [==============================] - 241s 5ms/step - loss: 0.7619 - accuracy: 0.7336 - val_loss: 0.7273 - val_accuracy: 0.7487\n",
            "Epoch 7/10\n",
            "50000/50000 [==============================] - 238s 5ms/step - loss: 0.7234 - accuracy: 0.7438 - val_loss: 0.7266 - val_accuracy: 0.7527\n",
            "Epoch 8/10\n",
            "50000/50000 [==============================] - 241s 5ms/step - loss: 0.6985 - accuracy: 0.7554 - val_loss: 0.7320 - val_accuracy: 0.7543\n",
            "Epoch 9/10\n",
            "50000/50000 [==============================] - 241s 5ms/step - loss: 0.6714 - accuracy: 0.7642 - val_loss: 0.6853 - val_accuracy: 0.7664\n",
            "Epoch 10/10\n",
            "50000/50000 [==============================] - 240s 5ms/step - loss: 0.6424 - accuracy: 0.7745 - val_loss: 0.6598 - val_accuracy: 0.7753\n"
          ],
          "name": "stdout"
        },
        {
          "output_type": "execute_result",
          "data": {
            "text/plain": [
              "<keras.callbacks.callbacks.History at 0x7fb42f6adb70>"
            ]
          },
          "metadata": {
            "tags": []
          },
          "execution_count": 22
        }
      ]
    },
    {
      "cell_type": "code",
      "metadata": {
        "id": "LoWYzltVGUv7",
        "colab_type": "code",
        "colab": {}
      },
      "source": [
        "class_labsls = [\"Plane\", \"Car\", \"Bird\", \"Cat\", \"Deer\", \"Dog\", \"Frog\", \"Horse\", \"Boat\", \"Truck\"]"
      ],
      "execution_count": 23,
      "outputs": []
    },
    {
      "cell_type": "code",
      "metadata": {
        "id": "QD4HphsbUTHk",
        "colab_type": "code",
        "colab": {}
      },
      "source": [
        "from keras.preprocessing import image\n",
        "img = image.load_img(\"cat.png\", target_size=(32,32))"
      ],
      "execution_count": 24,
      "outputs": []
    },
    {
      "cell_type": "markdown",
      "metadata": {
        "id": "fSdEhoCfXaNT",
        "colab_type": "text"
      },
      "source": [
        "Convert the image into numpy array"
      ]
    },
    {
      "cell_type": "code",
      "metadata": {
        "id": "43o6bKTQVVlg",
        "colab_type": "code",
        "colab": {}
      },
      "source": [
        "image_to_test = image.img_to_array(img) / 255"
      ],
      "execution_count": 25,
      "outputs": []
    },
    {
      "cell_type": "markdown",
      "metadata": {
        "id": "oNRpT5R9XLcE",
        "colab_type": "text"
      },
      "source": [
        "Add a fourth dimension to the image since keras  expects a list of images and not just single image"
      ]
    },
    {
      "cell_type": "code",
      "metadata": {
        "id": "ni8CLYUFXYoV",
        "colab_type": "code",
        "colab": {}
      },
      "source": [
        "list_of_images = np.expand_dims(image_to_test, axis=0)"
      ],
      "execution_count": 26,
      "outputs": []
    },
    {
      "cell_type": "markdown",
      "metadata": {
        "id": "AnD6tHpjX56A",
        "colab_type": "text"
      },
      "source": [
        "Make a prediction using the model"
      ]
    },
    {
      "cell_type": "code",
      "metadata": {
        "id": "vioE4DuoYAGY",
        "colab_type": "code",
        "colab": {}
      },
      "source": [
        "results = model.predict(list_of_images)"
      ],
      "execution_count": 27,
      "outputs": []
    },
    {
      "cell_type": "code",
      "metadata": {
        "id": "NkAfE0BIYKV9",
        "colab_type": "code",
        "colab": {}
      },
      "source": [
        "single_result = results[0]"
      ],
      "execution_count": 28,
      "outputs": []
    },
    {
      "cell_type": "code",
      "metadata": {
        "id": "0q_8TqRfkxRU",
        "colab_type": "code",
        "colab": {}
      },
      "source": [
        "most_likely_class_index = np.argmax(single_result)"
      ],
      "execution_count": 29,
      "outputs": []
    },
    {
      "cell_type": "code",
      "metadata": {
        "id": "OtOV1kDglNFp",
        "colab_type": "code",
        "colab": {
          "base_uri": "https://localhost:8080/",
          "height": 34
        },
        "outputId": "67dc2c3d-9c0a-4af7-c7ab-02a57deab325"
      },
      "source": [
        "most_likely_class_index"
      ],
      "execution_count": 30,
      "outputs": [
        {
          "output_type": "execute_result",
          "data": {
            "text/plain": [
              "3"
            ]
          },
          "metadata": {
            "tags": []
          },
          "execution_count": 30
        }
      ]
    },
    {
      "cell_type": "code",
      "metadata": {
        "id": "aaA9yJJzlP4P",
        "colab_type": "code",
        "colab": {}
      },
      "source": [
        ""
      ],
      "execution_count": null,
      "outputs": []
    }
  ]
}